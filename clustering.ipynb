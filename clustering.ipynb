{
  "nbformat": 4,
  "nbformat_minor": 0,
  "metadata": {
    "colab": {
      "name": "hw2_임성규_2015310908.ipynb",
      "provenance": []
    },
    "kernelspec": {
      "name": "python3",
      "display_name": "Python 3"
    }
  },
  "cells": [
    {
      "cell_type": "markdown",
      "metadata": {
        "id": "vrUC2kjbmtpH"
      },
      "source": [
        "#hw2_임성규_2015310908"
      ]
    },
    {
      "cell_type": "code",
      "metadata": {
        "colab": {
          "base_uri": "https://localhost:8080/"
        },
        "id": "sUEM6FW-GwdY",
        "outputId": "d9184d08-7dcc-4eb3-8b25-ee577fee7ae2"
      },
      "source": [
        "from google.colab import drive\n",
        "\n",
        "drive.mount('/content/gdrive')"
      ],
      "execution_count": 4,
      "outputs": [
        {
          "output_type": "stream",
          "text": [
            "Mounted at /content/gdrive\n"
          ],
          "name": "stdout"
        }
      ]
    },
    {
      "cell_type": "code",
      "metadata": {
        "id": "68WU55llG7wx"
      },
      "source": [
        "from sklearn.metrics import classification_report, confusion_matrix\n",
        "from sklearn.model_selection import train_test_split\n",
        "\n",
        "import matplotlib.pyplot as plt\n",
        "\n",
        "import pandas as pd\n",
        "import numpy as np\n",
        "\n",
        "import scipy.cluster.hierarchy as sch\n",
        "\n",
        "import glob\n",
        "import sys\n",
        "\n",
        "import os"
      ],
      "execution_count": 8,
      "outputs": []
    },
    {
      "cell_type": "code",
      "metadata": {
        "colab": {
          "base_uri": "https://localhost:8080/"
        },
        "id": "jHVWIHbXHdaW",
        "outputId": "d2e11d55-dce7-47ca-e589-eb308d928ecd"
      },
      "source": [
        "path = \"/content/gdrive/MyDrive/patients_data\"\n",
        "file_list = os.listdir(path)\n",
        "print(file_list)"
      ],
      "execution_count": 5,
      "outputs": [
        {
          "output_type": "stream",
          "text": [
            "['pain_relief.csv']\n"
          ],
          "name": "stdout"
        }
      ]
    },
    {
      "cell_type": "code",
      "metadata": {
        "colab": {
          "base_uri": "https://localhost:8080/"
        },
        "id": "Z52CwAWjHqh7",
        "outputId": "d1e068e0-2577-4149-9c8e-1bdc0cdc0f24"
      },
      "source": [
        "df_patients = pd.read_csv(\"/content/gdrive/MyDrive/patients_data/pain_relief.csv\")\n",
        "\n",
        "print(df_patients)"
      ],
      "execution_count": 6,
      "outputs": [
        {
          "output_type": "stream",
          "text": [
            "    no.stomach.upset  no.side.effect  ...  keep.me.awake  limited.relief\n",
            "0           -2.60752        -2.04092  ...        1.32107        -0.35083\n",
            "1           -2.59774         0.59376  ...       -0.54921         2.94808\n",
            "2           -0.60272         0.05678  ...       -0.50832         1.52563\n",
            "3            0.05149        -1.40517  ...       -0.09143         1.52235\n",
            "4           -2.59749         0.33210  ...        2.16773         0.27801\n",
            "..               ...             ...  ...            ...             ...\n",
            "95           0.68494        -1.28206  ...        1.62077        -0.49332\n",
            "96           1.93861         1.67954  ...       -2.37940         0.55244\n",
            "97           0.10175        -2.62137  ...        1.35707         0.77691\n",
            "98          -0.89886        -0.51501  ...        0.86678         1.37684\n",
            "99          -0.21805        -0.33479  ...       -0.71583         0.61299\n",
            "\n",
            "[100 rows x 6 columns]\n"
          ],
          "name": "stdout"
        }
      ]
    },
    {
      "cell_type": "code",
      "metadata": {
        "colab": {
          "base_uri": "https://localhost:8080/",
          "height": 278
        },
        "id": "aj2GLt8SJ0Y4",
        "outputId": "b3804915-d999-4327-b706-b29608a32f60"
      },
      "source": [
        "dendrogram = sch.dendrogram(sch.linkage(df_patients, method  = \"ward\"))\n",
        "plt.title('Dendrogram')\n",
        "plt.show()"
      ],
      "execution_count": 10,
      "outputs": [
        {
          "output_type": "display_data",
          "data": {
            "image/png": "[encoded data removed]",
            "text/plain": [
              "<Figure size 432x288 with 1 Axes>"
            ]
          },
          "metadata": {
            "tags": [],
            "needs_background": "light"
          }
        }
      ]
    },
    {
      "cell_type": "markdown",
      "metadata": {
        "id": "7VUu2UZ2NBpW"
      },
      "source": [
        "---\n",
        "\n",
        " # Q1.\n",
        "\n",
        "-> number of cluster : 3"
      ]
    },
    {
      "cell_type": "code",
      "metadata": {
        "colab": {
          "base_uri": "https://localhost:8080/",
          "height": 419
        },
        "id": "frW_njlFJ0gl",
        "outputId": "d155945c-2acd-421a-848d-05fd91d4e19b"
      },
      "source": [
        "from sklearn.cluster import KMeans \n",
        "\n",
        "kmeans = KMeans(n_clusters=3)\n",
        "kmeans.fit(df_patients)\n",
        "\n",
        "result_by_sklearn = df_patients.copy()\n",
        "result_by_sklearn[\"cluster\"] = kmeans.labels_\n",
        "result_by_sklearn"
      ],
      "execution_count": 38,
      "outputs": [
        {
          "output_type": "execute_result",
          "data": {
            "text/html": [
              "<div>\n",
              "<style scoped>\n",
              "    .dataframe tbody tr th:only-of-type {\n",
              "        vertical-align: middle;\n",
              "    }\n",
              "\n",
              "    .dataframe tbody tr th {\n",
              "        vertical-align: top;\n",
              "    }\n",
              "\n",
              "    .dataframe thead th {\n",
              "        text-align: right;\n",
              "    }\n",
              "</style>\n",
              "<table border=\"1\" class=\"dataframe\">\n",
              "  <thead>\n",
              "    <tr style=\"text-align: right;\">\n",
              "      <th></th>\n",
              "      <th>no.stomach.upset</th>\n",
              "      <th>no.side.effect</th>\n",
              "      <th>stop.pain</th>\n",
              "      <th>work.quickly</th>\n",
              "      <th>keep.me.awake</th>\n",
              "      <th>limited.relief</th>\n",
              "      <th>cluster</th>\n",
              "    </tr>\n",
              "  </thead>\n",
              "  <tbody>\n",
              "    <tr>\n",
              "      <th>0</th>\n",
              "      <td>-2.60752</td>\n",
              "      <td>-2.04092</td>\n",
              "      <td>0.66772</td>\n",
              "      <td>0.40488</td>\n",
              "      <td>1.32107</td>\n",
              "      <td>-0.35083</td>\n",
              "      <td>1</td>\n",
              "    </tr>\n",
              "    <tr>\n",
              "      <th>1</th>\n",
              "      <td>-2.59774</td>\n",
              "      <td>0.59376</td>\n",
              "      <td>-0.68969</td>\n",
              "      <td>-0.81425</td>\n",
              "      <td>-0.54921</td>\n",
              "      <td>2.94808</td>\n",
              "      <td>0</td>\n",
              "    </tr>\n",
              "    <tr>\n",
              "      <th>2</th>\n",
              "      <td>-0.60272</td>\n",
              "      <td>0.05678</td>\n",
              "      <td>-2.63519</td>\n",
              "      <td>-3.83902</td>\n",
              "      <td>-0.50832</td>\n",
              "      <td>1.52563</td>\n",
              "      <td>0</td>\n",
              "    </tr>\n",
              "    <tr>\n",
              "      <th>3</th>\n",
              "      <td>0.05149</td>\n",
              "      <td>-1.40517</td>\n",
              "      <td>-1.33480</td>\n",
              "      <td>-1.14832</td>\n",
              "      <td>-0.09143</td>\n",
              "      <td>1.52235</td>\n",
              "      <td>0</td>\n",
              "    </tr>\n",
              "    <tr>\n",
              "      <th>4</th>\n",
              "      <td>-2.59749</td>\n",
              "      <td>0.33210</td>\n",
              "      <td>-0.82528</td>\n",
              "      <td>-1.12503</td>\n",
              "      <td>2.16773</td>\n",
              "      <td>0.27801</td>\n",
              "      <td>1</td>\n",
              "    </tr>\n",
              "    <tr>\n",
              "      <th>...</th>\n",
              "      <td>...</td>\n",
              "      <td>...</td>\n",
              "      <td>...</td>\n",
              "      <td>...</td>\n",
              "      <td>...</td>\n",
              "      <td>...</td>\n",
              "      <td>...</td>\n",
              "    </tr>\n",
              "    <tr>\n",
              "      <th>95</th>\n",
              "      <td>0.68494</td>\n",
              "      <td>-1.28206</td>\n",
              "      <td>0.15367</td>\n",
              "      <td>-1.36746</td>\n",
              "      <td>1.62077</td>\n",
              "      <td>-0.49332</td>\n",
              "      <td>1</td>\n",
              "    </tr>\n",
              "    <tr>\n",
              "      <th>96</th>\n",
              "      <td>1.93861</td>\n",
              "      <td>1.67954</td>\n",
              "      <td>-0.55479</td>\n",
              "      <td>-0.72709</td>\n",
              "      <td>-2.37940</td>\n",
              "      <td>0.55244</td>\n",
              "      <td>2</td>\n",
              "    </tr>\n",
              "    <tr>\n",
              "      <th>97</th>\n",
              "      <td>0.10175</td>\n",
              "      <td>-2.62137</td>\n",
              "      <td>1.30791</td>\n",
              "      <td>1.09358</td>\n",
              "      <td>1.35707</td>\n",
              "      <td>0.77691</td>\n",
              "      <td>1</td>\n",
              "    </tr>\n",
              "    <tr>\n",
              "      <th>98</th>\n",
              "      <td>-0.89886</td>\n",
              "      <td>-0.51501</td>\n",
              "      <td>-0.84187</td>\n",
              "      <td>0.10075</td>\n",
              "      <td>0.86678</td>\n",
              "      <td>1.37684</td>\n",
              "      <td>0</td>\n",
              "    </tr>\n",
              "    <tr>\n",
              "      <th>99</th>\n",
              "      <td>-0.21805</td>\n",
              "      <td>-0.33479</td>\n",
              "      <td>-0.82586</td>\n",
              "      <td>-1.99181</td>\n",
              "      <td>-0.71583</td>\n",
              "      <td>0.61299</td>\n",
              "      <td>0</td>\n",
              "    </tr>\n",
              "  </tbody>\n",
              "</table>\n",
              "<p>100 rows × 7 columns</p>\n",
              "</div>"
            ],
            "text/plain": [
              "    no.stomach.upset  no.side.effect  ...  limited.relief  cluster\n",
              "0           -2.60752        -2.04092  ...        -0.35083        1\n",
              "1           -2.59774         0.59376  ...         2.94808        0\n",
              "2           -0.60272         0.05678  ...         1.52563        0\n",
              "3            0.05149        -1.40517  ...         1.52235        0\n",
              "4           -2.59749         0.33210  ...         0.27801        1\n",
              "..               ...             ...  ...             ...      ...\n",
              "95           0.68494        -1.28206  ...        -0.49332        1\n",
              "96           1.93861         1.67954  ...         0.55244        2\n",
              "97           0.10175        -2.62137  ...         0.77691        1\n",
              "98          -0.89886        -0.51501  ...         1.37684        0\n",
              "99          -0.21805        -0.33479  ...         0.61299        0\n",
              "\n",
              "[100 rows x 7 columns]"
            ]
          },
          "metadata": {
            "tags": []
          },
          "execution_count": 38
        }
      ]
    },
    {
      "cell_type": "markdown",
      "metadata": {
        "id": "XT_Ny8AvlhkV"
      },
      "source": [
        "perform k-means clustering using the number of clusters : 3"
      ]
    },
    {
      "cell_type": "code",
      "metadata": {
        "id": "Fz9MAejzmVrA"
      },
      "source": [
        ""
      ],
      "execution_count": null,
      "outputs": []
    }
  ]
}
{
  "nbformat": 4,
  "nbformat_minor": 0,
  "metadata": {
    "colab": {
      "name": "bert_naver_movie_practice.ipynb",
      "provenance": [],
      "collapsed_sections": [],
      "toc_visible": true,
      "machine_shape": "hm",
      "include_colab_link": true
    },
    "kernelspec": {
      "name": "python3",
      "display_name": "Python 3"
    },
    "accelerator": "GPU"
  },
  "cells": [
    {
      "cell_type": "markdown",
      "metadata": {
        "id": "view-in-github",
        "colab_type": "text"
      },
      "source": [
        "<a href=\"https://colab.research.google.com/github/gatherheart/Classification_With_BERT/blob/main/bert_naver_movie_practice.ipynb\" target=\"_parent\"><img src=\"https://colab.research.google.com/assets/colab-badge.svg\" alt=\"Open In Colab\"/></a>"
      ]
    },
    {
      "cell_type": "markdown",
      "metadata": {
        "id": "P58qy4--s5_x"
      },
      "source": [
        "# **네이버 영화리뷰 감정분석 with HuggingFace BERT**\n"
      ]
    },
    {
      "cell_type": "markdown",
      "metadata": {
        "id": "i45d7E0L8bZ_"
      },
      "source": [
        "<br>\n",
        "<br>\n",
        "\n",
        "# **준비 사항**"
      ]
    },
    {
      "cell_type": "code",
      "metadata": {
        "id": "DoMVfXex9m97",
        "outputId": "89b36bf4-82d8-4a23-f178-78a0d3dac13b",
        "colab": {
          "base_uri": "https://localhost:8080/"
        }
      },
      "source": [
        "from google.colab import drive\n",
        "drive.mount('/content/drive')"
      ],
      "execution_count": 33,
      "outputs": [
        {
          "output_type": "stream",
          "text": [
            "Drive already mounted at /content/drive; to attempt to forcibly remount, call drive.mount(\"/content/drive\", force_remount=True).\n"
          ],
          "name": "stdout"
        }
      ]
    },
    {
      "cell_type": "code",
      "metadata": {
        "id": "WkAHQrj2Vjbl",
        "outputId": "be1b812f-8486-46b7-90f1-404dd074332c",
        "colab": {
          "base_uri": "https://localhost:8080/"
        }
      },
      "source": [
        "# Hugging Face의 트랜스포머 모델을 설치\n",
        "!pip install transformers"
      ],
      "execution_count": 34,
      "outputs": [
        {
          "output_type": "stream",
          "text": [
            "Requirement already satisfied: transformers in /usr/local/lib/python3.6/dist-packages (3.4.0)\n",
            "Requirement already satisfied: sacremoses in /usr/local/lib/python3.6/dist-packages (from transformers) (0.0.43)\n",
            "Requirement already satisfied: sentencepiece!=0.1.92 in /usr/local/lib/python3.6/dist-packages (from transformers) (0.1.94)\n",
            "Requirement already satisfied: tqdm>=4.27 in /usr/local/lib/python3.6/dist-packages (from transformers) (4.41.1)\n",
            "Requirement already satisfied: dataclasses; python_version < \"3.7\" in /usr/local/lib/python3.6/dist-packages (from transformers) (0.7)\n",
            "Requirement already satisfied: protobuf in /usr/local/lib/python3.6/dist-packages (from transformers) (3.12.4)\n",
            "Requirement already satisfied: numpy in /usr/local/lib/python3.6/dist-packages (from transformers) (1.18.5)\n",
            "Requirement already satisfied: filelock in /usr/local/lib/python3.6/dist-packages (from transformers) (3.0.12)\n",
            "Requirement already satisfied: requests in /usr/local/lib/python3.6/dist-packages (from transformers) (2.23.0)\n",
            "Requirement already satisfied: packaging in /usr/local/lib/python3.6/dist-packages (from transformers) (20.4)\n",
            "Requirement already satisfied: tokenizers==0.9.2 in /usr/local/lib/python3.6/dist-packages (from transformers) (0.9.2)\n",
            "Requirement already satisfied: regex!=2019.12.17 in /usr/local/lib/python3.6/dist-packages (from transformers) (2019.12.20)\n",
            "Requirement already satisfied: click in /usr/local/lib/python3.6/dist-packages (from sacremoses->transformers) (7.1.2)\n",
            "Requirement already satisfied: joblib in /usr/local/lib/python3.6/dist-packages (from sacremoses->transformers) (0.17.0)\n",
            "Requirement already satisfied: six in /usr/local/lib/python3.6/dist-packages (from sacremoses->transformers) (1.15.0)\n",
            "Requirement already satisfied: setuptools in /usr/local/lib/python3.6/dist-packages (from protobuf->transformers) (50.3.2)\n",
            "Requirement already satisfied: certifi>=2017.4.17 in /usr/local/lib/python3.6/dist-packages (from requests->transformers) (2020.6.20)\n",
            "Requirement already satisfied: urllib3!=1.25.0,!=1.25.1,<1.26,>=1.21.1 in /usr/local/lib/python3.6/dist-packages (from requests->transformers) (1.24.3)\n",
            "Requirement already satisfied: chardet<4,>=3.0.2 in /usr/local/lib/python3.6/dist-packages (from requests->transformers) (3.0.4)\n",
            "Requirement already satisfied: idna<3,>=2.5 in /usr/local/lib/python3.6/dist-packages (from requests->transformers) (2.10)\n",
            "Requirement already satisfied: pyparsing>=2.0.2 in /usr/local/lib/python3.6/dist-packages (from packaging->transformers) (2.4.7)\n"
          ],
          "name": "stdout"
        }
      ]
    },
    {
      "cell_type": "code",
      "metadata": {
        "id": "Q5eBBp2ZoMz1"
      },
      "source": [
        "gpu_info = !nvidia-smi\n",
        "gpu_info = '\\n'.join(gpu_info)\n",
        "if gpu_info.find('failed') >= 0:\n",
        "  print('Select the Runtime > \"Change runtime type\" menu to enable a GPU accelerator, ')\n",
        "  print('and then re-execute this cell.')\n",
        "else:\n",
        "  print(gpu_info)"
      ],
      "execution_count": null,
      "outputs": []
    },
    {
      "cell_type": "code",
      "metadata": {
        "id": "75dIz2fNWG8F"
      },
      "source": [
        "import tensorflow as tf\n",
        "import torch\n",
        "\n",
        "from transformers import BertTokenizer\n",
        "from transformers import BertForSequenceClassification, AdamW, BertConfig\n",
        "from transformers import get_linear_schedule_with_warmup\n",
        "from torch.utils.data import TensorDataset, DataLoader, RandomSampler, SequentialSampler\n",
        "from keras.preprocessing.sequence import pad_sequences\n",
        "from sklearn.model_selection import train_test_split\n",
        "\n",
        "import pandas as pd\n",
        "import numpy as np\n",
        "import random\n",
        "import time\n",
        "import datetime"
      ],
      "execution_count": 35,
      "outputs": []
    },
    {
      "cell_type": "markdown",
      "metadata": {
        "id": "h_U3uMySBCIV"
      },
      "source": [
        "<br>\n",
        "<br>\n",
        "\n",
        "# **데이터 로드**"
      ]
    },
    {
      "cell_type": "code",
      "metadata": {
        "id": "ImBtAkSyTW1r",
        "outputId": "4f2b537c-34ab-4269-b5a4-a204a556fcc1",
        "colab": {
          "base_uri": "https://localhost:8080/"
        }
      },
      "source": [
        "# 네이버 영화리뷰 감정분석 데이터 다운로드\n",
        "!git clone https://github.com/e9t/nsmc.git"
      ],
      "execution_count": 36,
      "outputs": [
        {
          "output_type": "stream",
          "text": [
            "fatal: destination path 'nsmc' already exists and is not an empty directory.\n"
          ],
          "name": "stdout"
        }
      ]
    },
    {
      "cell_type": "code",
      "metadata": {
        "id": "0LPEdb2tWfIU",
        "outputId": "2c9d509f-45cf-4352-e9f0-b06f162a2d75",
        "colab": {
          "base_uri": "https://localhost:8080/"
        }
      },
      "source": [
        "# 판다스로 훈련셋과 테스트셋 데이터 로드\n",
        "train = pd.read_csv(\"nsmc/ratings_train.txt\", sep='\\t')\n",
        "test = pd.read_csv(\"nsmc/ratings_test.txt\", sep='\\t')\n",
        "\n",
        "print(train.shape)\n",
        "print(test.shape)"
      ],
      "execution_count": 37,
      "outputs": [
        {
          "output_type": "stream",
          "text": [
            "(150000, 3)\n",
            "(50000, 3)\n"
          ],
          "name": "stdout"
        }
      ]
    },
    {
      "cell_type": "code",
      "metadata": {
        "id": "tejY9ZhABYWl",
        "outputId": "c810a3ee-d12c-4902-d5bc-0efef75513aa",
        "colab": {
          "base_uri": "https://localhost:8080/",
          "height": 343
        }
      },
      "source": [
        "# 훈련셋의 앞부분 출력\n",
        "train.head(10)"
      ],
      "execution_count": 38,
      "outputs": [
        {
          "output_type": "execute_result",
          "data": {
            "text/html": [
              "<div>\n",
              "<style scoped>\n",
              "    .dataframe tbody tr th:only-of-type {\n",
              "        vertical-align: middle;\n",
              "    }\n",
              "\n",
              "    .dataframe tbody tr th {\n",
              "        vertical-align: top;\n",
              "    }\n",
              "\n",
              "    .dataframe thead th {\n",
              "        text-align: right;\n",
              "    }\n",
              "</style>\n",
              "<table border=\"1\" class=\"dataframe\">\n",
              "  <thead>\n",
              "    <tr style=\"text-align: right;\">\n",
              "      <th></th>\n",
              "      <th>id</th>\n",
              "      <th>document</th>\n",
              "      <th>label</th>\n",
              "    </tr>\n",
              "  </thead>\n",
              "  <tbody>\n",
              "    <tr>\n",
              "      <th>0</th>\n",
              "      <td>9976970</td>\n",
              "      <td>아 더빙.. 진짜 짜증나네요 목소리</td>\n",
              "      <td>0</td>\n",
              "    </tr>\n",
              "    <tr>\n",
              "      <th>1</th>\n",
              "      <td>3819312</td>\n",
              "      <td>흠...포스터보고 초딩영화줄....오버연기조차 가볍지 않구나</td>\n",
              "      <td>1</td>\n",
              "    </tr>\n",
              "    <tr>\n",
              "      <th>2</th>\n",
              "      <td>10265843</td>\n",
              "      <td>너무재밓었다그래서보는것을추천한다</td>\n",
              "      <td>0</td>\n",
              "    </tr>\n",
              "    <tr>\n",
              "      <th>3</th>\n",
              "      <td>9045019</td>\n",
              "      <td>교도소 이야기구먼 ..솔직히 재미는 없다..평점 조정</td>\n",
              "      <td>0</td>\n",
              "    </tr>\n",
              "    <tr>\n",
              "      <th>4</th>\n",
              "      <td>6483659</td>\n",
              "      <td>사이몬페그의 익살스런 연기가 돋보였던 영화!스파이더맨에서 늙어보이기만 했던 커스틴 ...</td>\n",
              "      <td>1</td>\n",
              "    </tr>\n",
              "    <tr>\n",
              "      <th>5</th>\n",
              "      <td>5403919</td>\n",
              "      <td>막 걸음마 뗀 3세부터 초등학교 1학년생인 8살용영화.ㅋㅋㅋ...별반개도 아까움.</td>\n",
              "      <td>0</td>\n",
              "    </tr>\n",
              "    <tr>\n",
              "      <th>6</th>\n",
              "      <td>7797314</td>\n",
              "      <td>원작의 긴장감을 제대로 살려내지못했다.</td>\n",
              "      <td>0</td>\n",
              "    </tr>\n",
              "    <tr>\n",
              "      <th>7</th>\n",
              "      <td>9443947</td>\n",
              "      <td>별 반개도 아깝다 욕나온다 이응경 길용우 연기생활이몇년인지..정말 발로해도 그것보단...</td>\n",
              "      <td>0</td>\n",
              "    </tr>\n",
              "    <tr>\n",
              "      <th>8</th>\n",
              "      <td>7156791</td>\n",
              "      <td>액션이 없는데도 재미 있는 몇안되는 영화</td>\n",
              "      <td>1</td>\n",
              "    </tr>\n",
              "    <tr>\n",
              "      <th>9</th>\n",
              "      <td>5912145</td>\n",
              "      <td>왜케 평점이 낮은건데? 꽤 볼만한데.. 헐리우드식 화려함에만 너무 길들여져 있나?</td>\n",
              "      <td>1</td>\n",
              "    </tr>\n",
              "  </tbody>\n",
              "</table>\n",
              "</div>"
            ],
            "text/plain": [
              "         id                                           document  label\n",
              "0   9976970                                아 더빙.. 진짜 짜증나네요 목소리      0\n",
              "1   3819312                  흠...포스터보고 초딩영화줄....오버연기조차 가볍지 않구나      1\n",
              "2  10265843                                  너무재밓었다그래서보는것을추천한다      0\n",
              "3   9045019                      교도소 이야기구먼 ..솔직히 재미는 없다..평점 조정      0\n",
              "4   6483659  사이몬페그의 익살스런 연기가 돋보였던 영화!스파이더맨에서 늙어보이기만 했던 커스틴 ...      1\n",
              "5   5403919      막 걸음마 뗀 3세부터 초등학교 1학년생인 8살용영화.ㅋㅋㅋ...별반개도 아까움.      0\n",
              "6   7797314                              원작의 긴장감을 제대로 살려내지못했다.      0\n",
              "7   9443947  별 반개도 아깝다 욕나온다 이응경 길용우 연기생활이몇년인지..정말 발로해도 그것보단...      0\n",
              "8   7156791                             액션이 없는데도 재미 있는 몇안되는 영화      1\n",
              "9   5912145      왜케 평점이 낮은건데? 꽤 볼만한데.. 헐리우드식 화려함에만 너무 길들여져 있나?      1"
            ]
          },
          "metadata": {
            "tags": []
          },
          "execution_count": 38
        }
      ]
    },
    {
      "cell_type": "markdown",
      "metadata": {
        "id": "XgjMzosCDD35"
      },
      "source": [
        "<br>\n",
        "<br>\n",
        "\n",
        "# **전처리 - 훈련셋**"
      ]
    },
    {
      "cell_type": "code",
      "metadata": {
        "id": "2GoESQ0jbybJ",
        "outputId": "a2c787db-2bf5-4e0f-9c25-ac526372a127",
        "colab": {
          "base_uri": "https://localhost:8080/"
        }
      },
      "source": [
        "# 리뷰 문장 추출\n",
        "sentences = train['document']\n",
        "sentences[:10]"
      ],
      "execution_count": 39,
      "outputs": [
        {
          "output_type": "execute_result",
          "data": {
            "text/plain": [
              "0                                  아 더빙.. 진짜 짜증나네요 목소리\n",
              "1                    흠...포스터보고 초딩영화줄....오버연기조차 가볍지 않구나\n",
              "2                                    너무재밓었다그래서보는것을추천한다\n",
              "3                        교도소 이야기구먼 ..솔직히 재미는 없다..평점 조정\n",
              "4    사이몬페그의 익살스런 연기가 돋보였던 영화!스파이더맨에서 늙어보이기만 했던 커스틴 ...\n",
              "5        막 걸음마 뗀 3세부터 초등학교 1학년생인 8살용영화.ㅋㅋㅋ...별반개도 아까움.\n",
              "6                                원작의 긴장감을 제대로 살려내지못했다.\n",
              "7    별 반개도 아깝다 욕나온다 이응경 길용우 연기생활이몇년인지..정말 발로해도 그것보단...\n",
              "8                               액션이 없는데도 재미 있는 몇안되는 영화\n",
              "9        왜케 평점이 낮은건데? 꽤 볼만한데.. 헐리우드식 화려함에만 너무 길들여져 있나?\n",
              "Name: document, dtype: object"
            ]
          },
          "metadata": {
            "tags": []
          },
          "execution_count": 39
        }
      ]
    },
    {
      "cell_type": "code",
      "metadata": {
        "id": "8KkJZvhccRUJ",
        "outputId": "594f60a8-1a12-4a48-e75f-56a376661a09",
        "colab": {
          "base_uri": "https://localhost:8080/"
        }
      },
      "source": [
        "# BERT의 입력 형식에 맞게 변환\n",
        "sentences = [\"[CLS] \" + str(sentence) + \" [SEP]\" for sentence in sentences]\n",
        "sentences[:10]"
      ],
      "execution_count": 40,
      "outputs": [
        {
          "output_type": "execute_result",
          "data": {
            "text/plain": [
              "['[CLS] 아 더빙.. 진짜 짜증나네요 목소리 [SEP]',\n",
              " '[CLS] 흠...포스터보고 초딩영화줄....오버연기조차 가볍지 않구나 [SEP]',\n",
              " '[CLS] 너무재밓었다그래서보는것을추천한다 [SEP]',\n",
              " '[CLS] 교도소 이야기구먼 ..솔직히 재미는 없다..평점 조정 [SEP]',\n",
              " '[CLS] 사이몬페그의 익살스런 연기가 돋보였던 영화!스파이더맨에서 늙어보이기만 했던 커스틴 던스트가 너무나도 이뻐보였다 [SEP]',\n",
              " '[CLS] 막 걸음마 뗀 3세부터 초등학교 1학년생인 8살용영화.ㅋㅋㅋ...별반개도 아까움. [SEP]',\n",
              " '[CLS] 원작의 긴장감을 제대로 살려내지못했다. [SEP]',\n",
              " '[CLS] 별 반개도 아깝다 욕나온다 이응경 길용우 연기생활이몇년인지..정말 발로해도 그것보단 낫겟다 납치.감금만반복반복..이드라마는 가족도없다 연기못하는사람만모엿네 [SEP]',\n",
              " '[CLS] 액션이 없는데도 재미 있는 몇안되는 영화 [SEP]',\n",
              " '[CLS] 왜케 평점이 낮은건데? 꽤 볼만한데.. 헐리우드식 화려함에만 너무 길들여져 있나? [SEP]']"
            ]
          },
          "metadata": {
            "tags": []
          },
          "execution_count": 40
        }
      ]
    },
    {
      "cell_type": "markdown",
      "metadata": {
        "id": "NeXrqpRaBjOX"
      },
      "source": [
        "![대체 텍스트](https://mino-park7.github.io/images/2019/02/bert-input-representation.png)\n",
        "\n",
        "\n",
        "<br>\n",
        "<br>"
      ]
    },
    {
      "cell_type": "code",
      "metadata": {
        "id": "7hBblIVQcXJR",
        "outputId": "58fe97dc-bb1c-4977-a1ae-afe0369435ce",
        "colab": {
          "base_uri": "https://localhost:8080/"
        }
      },
      "source": [
        "# 라벨 추출\n",
        "labels = train['label'].values\n",
        "labels"
      ],
      "execution_count": 41,
      "outputs": [
        {
          "output_type": "execute_result",
          "data": {
            "text/plain": [
              "array([0, 1, 0, ..., 0, 1, 0])"
            ]
          },
          "metadata": {
            "tags": []
          },
          "execution_count": 41
        }
      ]
    },
    {
      "cell_type": "code",
      "metadata": {
        "id": "PwEplfDvcnZG",
        "outputId": "e5b0151c-afbf-40d8-b443-3cfd354a699a",
        "colab": {
          "base_uri": "https://localhost:8080/"
        }
      },
      "source": [
        "# BERT의 토크나이저로 문장을 토큰으로 분리\n",
        "tokenizer = BertTokenizer.from_pretrained('bert-base-multilingual-cased', do_lower_case=False)\n",
        "tokenized_texts = [tokenizer.tokenize(sent) for sent in sentences]\n",
        "\n",
        "print (sentences[0])\n",
        "print (tokenized_texts[0])"
      ],
      "execution_count": 42,
      "outputs": [
        {
          "output_type": "stream",
          "text": [
            "[CLS] 아 더빙.. 진짜 짜증나네요 목소리 [SEP]\n",
            "['[CLS]', '아', '더', '##빙', '.', '.', '진', '##짜', '짜', '##증', '##나', '##네', '##요', '목', '##소', '##리', '[SEP]']\n"
          ],
          "name": "stdout"
        }
      ]
    },
    {
      "cell_type": "markdown",
      "metadata": {
        "id": "gV6SRXmlTMjr"
      },
      "source": [
        "\n",
        "<br>\n",
        "<br>"
      ]
    },
    {
      "cell_type": "code",
      "metadata": {
        "id": "VJ76KiP_dLn-",
        "outputId": "c5e44882-fa79-41ad-b2ac-7209d66b368d",
        "colab": {
          "base_uri": "https://localhost:8080/"
        }
      },
      "source": [
        "# 입력 토큰의 최대 시퀀스 길이\n",
        "MAX_LEN = 128\n",
        "\n",
        "# 토큰을 숫자 인덱스로 변환\n",
        "input_ids = [tokenizer.convert_tokens_to_ids(x) for x in tokenized_texts]\n",
        "\n",
        "# 문장을 MAX_LEN 길이에 맞게 자르고, 모자란 부분을 패딩 0으로 채움\n",
        "input_ids = pad_sequences(input_ids, maxlen=MAX_LEN, dtype=\"long\", truncating=\"post\", padding=\"post\")\n",
        "\n",
        "input_ids[0]"
      ],
      "execution_count": 43,
      "outputs": [
        {
          "output_type": "execute_result",
          "data": {
            "text/plain": [
              "array([   101,   9519,   9074, 119005,    119,    119,   9708, 119235,\n",
              "         9715, 119230,  16439,  77884,  48549,   9284,  22333,  12692,\n",
              "          102,      0,      0,      0,      0,      0,      0,      0,\n",
              "            0,      0,      0,      0,      0,      0,      0,      0,\n",
              "            0,      0,      0,      0,      0,      0,      0,      0,\n",
              "            0,      0,      0,      0,      0,      0,      0,      0,\n",
              "            0,      0,      0,      0,      0,      0,      0,      0,\n",
              "            0,      0,      0,      0,      0,      0,      0,      0,\n",
              "            0,      0,      0,      0,      0,      0,      0,      0,\n",
              "            0,      0,      0,      0,      0,      0,      0,      0,\n",
              "            0,      0,      0,      0,      0,      0,      0,      0,\n",
              "            0,      0,      0,      0,      0,      0,      0,      0,\n",
              "            0,      0,      0,      0,      0,      0,      0,      0,\n",
              "            0,      0,      0,      0,      0,      0,      0,      0,\n",
              "            0,      0,      0,      0,      0,      0,      0,      0,\n",
              "            0,      0,      0,      0,      0,      0,      0,      0])"
            ]
          },
          "metadata": {
            "tags": []
          },
          "execution_count": 43
        }
      ]
    },
    {
      "cell_type": "code",
      "metadata": {
        "id": "Y10yOyYFrj90",
        "outputId": "529351d6-fdab-49a8-bab1-9757954722a1",
        "colab": {
          "base_uri": "https://localhost:8080/"
        }
      },
      "source": [
        "tokenizer.convert_ids_to_tokens(input_ids[0])"
      ],
      "execution_count": 44,
      "outputs": [
        {
          "output_type": "execute_result",
          "data": {
            "text/plain": [
              "['[CLS]',\n",
              " '아',\n",
              " '더',\n",
              " '##빙',\n",
              " '.',\n",
              " '.',\n",
              " '진',\n",
              " '##짜',\n",
              " '짜',\n",
              " '##증',\n",
              " '##나',\n",
              " '##네',\n",
              " '##요',\n",
              " '목',\n",
              " '##소',\n",
              " '##리',\n",
              " '[SEP]',\n",
              " '[PAD]',\n",
              " '[PAD]',\n",
              " '[PAD]',\n",
              " '[PAD]',\n",
              " '[PAD]',\n",
              " '[PAD]',\n",
              " '[PAD]',\n",
              " '[PAD]',\n",
              " '[PAD]',\n",
              " '[PAD]',\n",
              " '[PAD]',\n",
              " '[PAD]',\n",
              " '[PAD]',\n",
              " '[PAD]',\n",
              " '[PAD]',\n",
              " '[PAD]',\n",
              " '[PAD]',\n",
              " '[PAD]',\n",
              " '[PAD]',\n",
              " '[PAD]',\n",
              " '[PAD]',\n",
              " '[PAD]',\n",
              " '[PAD]',\n",
              " '[PAD]',\n",
              " '[PAD]',\n",
              " '[PAD]',\n",
              " '[PAD]',\n",
              " '[PAD]',\n",
              " '[PAD]',\n",
              " '[PAD]',\n",
              " '[PAD]',\n",
              " '[PAD]',\n",
              " '[PAD]',\n",
              " '[PAD]',\n",
              " '[PAD]',\n",
              " '[PAD]',\n",
              " '[PAD]',\n",
              " '[PAD]',\n",
              " '[PAD]',\n",
              " '[PAD]',\n",
              " '[PAD]',\n",
              " '[PAD]',\n",
              " '[PAD]',\n",
              " '[PAD]',\n",
              " '[PAD]',\n",
              " '[PAD]',\n",
              " '[PAD]',\n",
              " '[PAD]',\n",
              " '[PAD]',\n",
              " '[PAD]',\n",
              " '[PAD]',\n",
              " '[PAD]',\n",
              " '[PAD]',\n",
              " '[PAD]',\n",
              " '[PAD]',\n",
              " '[PAD]',\n",
              " '[PAD]',\n",
              " '[PAD]',\n",
              " '[PAD]',\n",
              " '[PAD]',\n",
              " '[PAD]',\n",
              " '[PAD]',\n",
              " '[PAD]',\n",
              " '[PAD]',\n",
              " '[PAD]',\n",
              " '[PAD]',\n",
              " '[PAD]',\n",
              " '[PAD]',\n",
              " '[PAD]',\n",
              " '[PAD]',\n",
              " '[PAD]',\n",
              " '[PAD]',\n",
              " '[PAD]',\n",
              " '[PAD]',\n",
              " '[PAD]',\n",
              " '[PAD]',\n",
              " '[PAD]',\n",
              " '[PAD]',\n",
              " '[PAD]',\n",
              " '[PAD]',\n",
              " '[PAD]',\n",
              " '[PAD]',\n",
              " '[PAD]',\n",
              " '[PAD]',\n",
              " '[PAD]',\n",
              " '[PAD]',\n",
              " '[PAD]',\n",
              " '[PAD]',\n",
              " '[PAD]',\n",
              " '[PAD]',\n",
              " '[PAD]',\n",
              " '[PAD]',\n",
              " '[PAD]',\n",
              " '[PAD]',\n",
              " '[PAD]',\n",
              " '[PAD]',\n",
              " '[PAD]',\n",
              " '[PAD]',\n",
              " '[PAD]',\n",
              " '[PAD]',\n",
              " '[PAD]',\n",
              " '[PAD]',\n",
              " '[PAD]',\n",
              " '[PAD]',\n",
              " '[PAD]',\n",
              " '[PAD]',\n",
              " '[PAD]',\n",
              " '[PAD]',\n",
              " '[PAD]',\n",
              " '[PAD]',\n",
              " '[PAD]']"
            ]
          },
          "metadata": {
            "tags": []
          },
          "execution_count": 44
        }
      ]
    },
    {
      "cell_type": "code",
      "metadata": {
        "id": "pKfL8SotdVaW",
        "outputId": "f45bffa2-5f57-4e3a-8dec-ad577fc5ff23",
        "colab": {
          "base_uri": "https://localhost:8080/"
        }
      },
      "source": [
        "# 어텐션 마스크 초기화\n",
        "attention_masks = []\n",
        "\n",
        "# 어텐션 마스크를 패딩이 아니면 1, 패딩이면 0으로 설정\n",
        "# 패딩 부분은 BERT 모델에서 어텐션을 수행하지 않아 속도 향상\n",
        "for seq in input_ids:\n",
        "    seq_mask = [float(i>0) for i in seq]\n",
        "    attention_masks.append(seq_mask)\n",
        "\n",
        "print(attention_masks[0])"
      ],
      "execution_count": 45,
      "outputs": [
        {
          "output_type": "stream",
          "text": [
            "[1.0, 1.0, 1.0, 1.0, 1.0, 1.0, 1.0, 1.0, 1.0, 1.0, 1.0, 1.0, 1.0, 1.0, 1.0, 1.0, 1.0, 0.0, 0.0, 0.0, 0.0, 0.0, 0.0, 0.0, 0.0, 0.0, 0.0, 0.0, 0.0, 0.0, 0.0, 0.0, 0.0, 0.0, 0.0, 0.0, 0.0, 0.0, 0.0, 0.0, 0.0, 0.0, 0.0, 0.0, 0.0, 0.0, 0.0, 0.0, 0.0, 0.0, 0.0, 0.0, 0.0, 0.0, 0.0, 0.0, 0.0, 0.0, 0.0, 0.0, 0.0, 0.0, 0.0, 0.0, 0.0, 0.0, 0.0, 0.0, 0.0, 0.0, 0.0, 0.0, 0.0, 0.0, 0.0, 0.0, 0.0, 0.0, 0.0, 0.0, 0.0, 0.0, 0.0, 0.0, 0.0, 0.0, 0.0, 0.0, 0.0, 0.0, 0.0, 0.0, 0.0, 0.0, 0.0, 0.0, 0.0, 0.0, 0.0, 0.0, 0.0, 0.0, 0.0, 0.0, 0.0, 0.0, 0.0, 0.0, 0.0, 0.0, 0.0, 0.0, 0.0, 0.0, 0.0, 0.0, 0.0, 0.0, 0.0, 0.0, 0.0, 0.0, 0.0, 0.0, 0.0, 0.0, 0.0, 0.0]\n"
          ],
          "name": "stdout"
        }
      ]
    },
    {
      "cell_type": "code",
      "metadata": {
        "id": "1f5Vq3-7eNKH",
        "outputId": "e8b0a112-da0f-416d-96dc-c70dadb2ebf6",
        "colab": {
          "base_uri": "https://localhost:8080/"
        }
      },
      "source": [
        "# 훈련셋과 검증셋으로 분리\n",
        "train_inputs, validation_inputs, train_labels, validation_labels = train_test_split(input_ids,\n",
        "                                                                                    labels, \n",
        "                                                                                    random_state=2018, \n",
        "                                                                                    test_size=0.1)\n",
        "\n",
        "# 어텐션 마스크를 훈련셋과 검증셋으로 분리\n",
        "train_masks, validation_masks, _, _ = train_test_split(attention_masks, \n",
        "                                                       input_ids,\n",
        "                                                       random_state=2018, \n",
        "                                                       test_size=0.1)\n",
        "\n",
        "# 데이터를 파이토치의 텐서로 변환\n",
        "train_inputs = torch.tensor(train_inputs)\n",
        "train_labels = torch.tensor(train_labels)\n",
        "train_masks = torch.tensor(train_masks)\n",
        "validation_inputs = torch.tensor(validation_inputs)\n",
        "validation_labels = torch.tensor(validation_labels)\n",
        "validation_masks = torch.tensor(validation_masks)\t\t\t\t\n",
        "\n",
        "print(train_inputs[0])\n",
        "print(train_labels[0])\n",
        "print(train_masks[0])\n",
        "print(validation_inputs[0])\n",
        "print(validation_labels[0])\n",
        "print(validation_masks[0])"
      ],
      "execution_count": 46,
      "outputs": [
        {
          "output_type": "stream",
          "text": [
            "tensor([   101,   9711,  11489,   9364,  41850,   9004,  32537,   9491,  35506,\n",
            "         17360,  48549,    119,    119,   9477,  26444,  12692,   9665,  21789,\n",
            "         11287,   9708, 119235,   9659,  22458, 119136,  12965,  48549,    119,\n",
            "           119,   9532,  22879,   9685,  16985,  14523,  48549,    119,    119,\n",
            "          9596, 118728,    119,    119,   9178, 106065, 118916,    119,    119,\n",
            "          8903,  11664,  11513,   9960,  14423,  25503, 118671,  48549,    119,\n",
            "           119,  21890,   9546,  37819,  22879,   9356,  14867,   9715, 119230,\n",
            "        118716,  48345,    119,   9663,  23321,  10954,   9638,  35506, 106320,\n",
            "         10739,  20173,   9359,  19105,  11102,  42428,  17196,  48549,    119,\n",
            "           119,    100,    117,   9947,  12945,   9532,  25503,   8932,  14423,\n",
            "         35506, 119050,  11903,  14867,  10003,  14863,  33188,  48345,    119,\n",
            "           102,      0,      0,      0,      0,      0,      0,      0,      0,\n",
            "             0,      0,      0,      0,      0,      0,      0,      0,      0,\n",
            "             0,      0,      0,      0,      0,      0,      0,      0,      0,\n",
            "             0,      0])\n",
            "tensor(0)\n",
            "tensor([1., 1., 1., 1., 1., 1., 1., 1., 1., 1., 1., 1., 1., 1., 1., 1., 1., 1.,\n",
            "        1., 1., 1., 1., 1., 1., 1., 1., 1., 1., 1., 1., 1., 1., 1., 1., 1., 1.,\n",
            "        1., 1., 1., 1., 1., 1., 1., 1., 1., 1., 1., 1., 1., 1., 1., 1., 1., 1.,\n",
            "        1., 1., 1., 1., 1., 1., 1., 1., 1., 1., 1., 1., 1., 1., 1., 1., 1., 1.,\n",
            "        1., 1., 1., 1., 1., 1., 1., 1., 1., 1., 1., 1., 1., 1., 1., 1., 1., 1.,\n",
            "        1., 1., 1., 1., 1., 1., 1., 1., 1., 1., 0., 0., 0., 0., 0., 0., 0., 0.,\n",
            "        0., 0., 0., 0., 0., 0., 0., 0., 0., 0., 0., 0., 0., 0., 0., 0., 0., 0.,\n",
            "        0., 0.])\n",
            "tensor([   101,   1871, 111754, 111754, 111754, 111754,    102,      0,      0,\n",
            "             0,      0,      0,      0,      0,      0,      0,      0,      0,\n",
            "             0,      0,      0,      0,      0,      0,      0,      0,      0,\n",
            "             0,      0,      0,      0,      0,      0,      0,      0,      0,\n",
            "             0,      0,      0,      0,      0,      0,      0,      0,      0,\n",
            "             0,      0,      0,      0,      0,      0,      0,      0,      0,\n",
            "             0,      0,      0,      0,      0,      0,      0,      0,      0,\n",
            "             0,      0,      0,      0,      0,      0,      0,      0,      0,\n",
            "             0,      0,      0,      0,      0,      0,      0,      0,      0,\n",
            "             0,      0,      0,      0,      0,      0,      0,      0,      0,\n",
            "             0,      0,      0,      0,      0,      0,      0,      0,      0,\n",
            "             0,      0,      0,      0,      0,      0,      0,      0,      0,\n",
            "             0,      0,      0,      0,      0,      0,      0,      0,      0,\n",
            "             0,      0,      0,      0,      0,      0,      0,      0,      0,\n",
            "             0,      0])\n",
            "tensor(1)\n",
            "tensor([1., 1., 1., 1., 1., 1., 1., 0., 0., 0., 0., 0., 0., 0., 0., 0., 0., 0.,\n",
            "        0., 0., 0., 0., 0., 0., 0., 0., 0., 0., 0., 0., 0., 0., 0., 0., 0., 0.,\n",
            "        0., 0., 0., 0., 0., 0., 0., 0., 0., 0., 0., 0., 0., 0., 0., 0., 0., 0.,\n",
            "        0., 0., 0., 0., 0., 0., 0., 0., 0., 0., 0., 0., 0., 0., 0., 0., 0., 0.,\n",
            "        0., 0., 0., 0., 0., 0., 0., 0., 0., 0., 0., 0., 0., 0., 0., 0., 0., 0.,\n",
            "        0., 0., 0., 0., 0., 0., 0., 0., 0., 0., 0., 0., 0., 0., 0., 0., 0., 0.,\n",
            "        0., 0., 0., 0., 0., 0., 0., 0., 0., 0., 0., 0., 0., 0., 0., 0., 0., 0.,\n",
            "        0., 0.])\n"
          ],
          "name": "stdout"
        }
      ]
    },
    {
      "cell_type": "code",
      "metadata": {
        "id": "I3vlyUJuVRo5"
      },
      "source": [
        "# 배치 사이즈\n",
        "batch_size = 32\n",
        "\n",
        "# 파이토치의 DataLoader로 입력, 마스크, 라벨을 묶어 데이터 설정\n",
        "# 학습시 배치 사이즈 만큼 데이터를 가져옴\n",
        "train_data = TensorDataset(train_inputs, train_masks, train_labels)\n",
        "train_sampler = RandomSampler(train_data)\n",
        "train_dataloader = DataLoader(train_data, sampler=train_sampler, batch_size=batch_size)\n",
        "\n",
        "validation_data = TensorDataset(validation_inputs, validation_masks, validation_labels)\n",
        "validation_sampler = SequentialSampler(validation_data)\n",
        "validation_dataloader = DataLoader(validation_data, sampler=validation_sampler, batch_size=batch_size)"
      ],
      "execution_count": 47,
      "outputs": []
    },
    {
      "cell_type": "markdown",
      "metadata": {
        "id": "zkqUHx51dffp"
      },
      "source": [
        "<br>\n",
        "<br>\n",
        "\n",
        "# **전처리 - 테스트셋**"
      ]
    },
    {
      "cell_type": "code",
      "metadata": {
        "id": "xgrsNuArd4pj",
        "outputId": "b6f6f61c-4916-445a-f973-a8cc2ad894ad",
        "colab": {
          "base_uri": "https://localhost:8080/"
        }
      },
      "source": [
        "# 리뷰 문장 추출\n",
        "sentences = test['document']\n",
        "sentences[:10]"
      ],
      "execution_count": 48,
      "outputs": [
        {
          "output_type": "execute_result",
          "data": {
            "text/plain": [
              "0                                                  굳 ㅋ\n",
              "1                                 GDNTOPCLASSINTHECLUB\n",
              "2               뭐야 이 평점들은.... 나쁘진 않지만 10점 짜리는 더더욱 아니잖아\n",
              "3                     지루하지는 않은데 완전 막장임... 돈주고 보기에는....\n",
              "4    3D만 아니었어도 별 다섯 개 줬을텐데.. 왜 3D로 나와서 제 심기를 불편하게 하죠??\n",
              "5                                   음악이 주가 된, 최고의 음악영화\n",
              "6                                              진정한 쓰레기\n",
              "7             마치 미국애니에서 튀어나온듯한 창의력없는 로봇디자인부터가,고개를 젖게한다\n",
              "8    갈수록 개판되가는 중국영화 유치하고 내용없음 폼잡다 끝남 말도안되는 무기에 유치한c...\n",
              "9       이별의 아픔뒤에 찾아오는 새로운 인연의 기쁨 But, 모든 사람이 그렇지는 않네..\n",
              "Name: document, dtype: object"
            ]
          },
          "metadata": {
            "tags": []
          },
          "execution_count": 48
        }
      ]
    },
    {
      "cell_type": "code",
      "metadata": {
        "id": "Gtz3QZt9d4pz",
        "outputId": "dfc0cab9-2cd5-471c-b0c0-0b6907c76f5c",
        "colab": {
          "base_uri": "https://localhost:8080/"
        }
      },
      "source": [
        "# BERT의 입력 형식에 맞게 변환\n",
        "sentences = [\"[CLS] \" + str(sentence) + \" [SEP]\" for sentence in sentences]\n",
        "sentences[:10]"
      ],
      "execution_count": 49,
      "outputs": [
        {
          "output_type": "execute_result",
          "data": {
            "text/plain": [
              "['[CLS] 굳 ㅋ [SEP]',\n",
              " '[CLS] GDNTOPCLASSINTHECLUB [SEP]',\n",
              " '[CLS] 뭐야 이 평점들은.... 나쁘진 않지만 10점 짜리는 더더욱 아니잖아 [SEP]',\n",
              " '[CLS] 지루하지는 않은데 완전 막장임... 돈주고 보기에는.... [SEP]',\n",
              " '[CLS] 3D만 아니었어도 별 다섯 개 줬을텐데.. 왜 3D로 나와서 제 심기를 불편하게 하죠?? [SEP]',\n",
              " '[CLS] 음악이 주가 된, 최고의 음악영화 [SEP]',\n",
              " '[CLS] 진정한 쓰레기 [SEP]',\n",
              " '[CLS] 마치 미국애니에서 튀어나온듯한 창의력없는 로봇디자인부터가,고개를 젖게한다 [SEP]',\n",
              " '[CLS] 갈수록 개판되가는 중국영화 유치하고 내용없음 폼잡다 끝남 말도안되는 무기에 유치한cg남무 아 그립다 동사서독같은 영화가 이건 3류아류작이다 [SEP]',\n",
              " '[CLS] 이별의 아픔뒤에 찾아오는 새로운 인연의 기쁨 But, 모든 사람이 그렇지는 않네.. [SEP]']"
            ]
          },
          "metadata": {
            "tags": []
          },
          "execution_count": 49
        }
      ]
    },
    {
      "cell_type": "code",
      "metadata": {
        "id": "li8oRajbd4p3",
        "outputId": "d3a7dafd-b298-4cc8-8b65-4727bba2f47f",
        "colab": {
          "base_uri": "https://localhost:8080/"
        }
      },
      "source": [
        "# 라벨 추출\n",
        "labels = test['label'].values\n",
        "labels"
      ],
      "execution_count": 50,
      "outputs": [
        {
          "output_type": "execute_result",
          "data": {
            "text/plain": [
              "array([1, 0, 0, ..., 0, 0, 0])"
            ]
          },
          "metadata": {
            "tags": []
          },
          "execution_count": 50
        }
      ]
    },
    {
      "cell_type": "code",
      "metadata": {
        "id": "lvpQ49nEd4p6",
        "outputId": "79b08844-2bf8-49b4-d847-269142aacfb9",
        "colab": {
          "base_uri": "https://localhost:8080/"
        }
      },
      "source": [
        "# BERT의 토크나이저로 문장을 토큰으로 분리\n",
        "tokenizer = BertTokenizer.from_pretrained('bert-base-multilingual-cased', do_lower_case=False)\n",
        "tokenized_texts = [tokenizer.tokenize(sent) for sent in sentences]\n",
        "\n",
        "print (sentences[0])\n",
        "print (tokenized_texts[0])"
      ],
      "execution_count": 51,
      "outputs": [
        {
          "output_type": "stream",
          "text": [
            "[CLS] 굳 ㅋ [SEP]\n",
            "['[CLS]', '굳', '[UNK]', '[SEP]']\n"
          ],
          "name": "stdout"
        }
      ]
    },
    {
      "cell_type": "code",
      "metadata": {
        "id": "HI9viuAvd4p_",
        "outputId": "c9eafb44-3ea2-489f-b473-c18195f154d0",
        "colab": {
          "base_uri": "https://localhost:8080/"
        }
      },
      "source": [
        "# 입력 토큰의 최대 시퀀스 길이\n",
        "MAX_LEN = 128\n",
        "\n",
        "# 토큰을 숫자 인덱스로 변환\n",
        "input_ids = [tokenizer.convert_tokens_to_ids(x) for x in tokenized_texts]\n",
        "\n",
        "# 문장을 MAX_LEN 길이에 맞게 자르고, 모자란 부분을 패딩 0으로 채움\n",
        "input_ids = pad_sequences(input_ids, maxlen=MAX_LEN, dtype=\"long\", truncating=\"post\", padding=\"post\")\n",
        "\n",
        "input_ids[0]"
      ],
      "execution_count": 52,
      "outputs": [
        {
          "output_type": "execute_result",
          "data": {
            "text/plain": [
              "array([ 101, 8911,  100,  102,    0,    0,    0,    0,    0,    0,    0,\n",
              "          0,    0,    0,    0,    0,    0,    0,    0,    0,    0,    0,\n",
              "          0,    0,    0,    0,    0,    0,    0,    0,    0,    0,    0,\n",
              "          0,    0,    0,    0,    0,    0,    0,    0,    0,    0,    0,\n",
              "          0,    0,    0,    0,    0,    0,    0,    0,    0,    0,    0,\n",
              "          0,    0,    0,    0,    0,    0,    0,    0,    0,    0,    0,\n",
              "          0,    0,    0,    0,    0,    0,    0,    0,    0,    0,    0,\n",
              "          0,    0,    0,    0,    0,    0,    0,    0,    0,    0,    0,\n",
              "          0,    0,    0,    0,    0,    0,    0,    0,    0,    0,    0,\n",
              "          0,    0,    0,    0,    0,    0,    0,    0,    0,    0,    0,\n",
              "          0,    0,    0,    0,    0,    0,    0,    0,    0,    0,    0,\n",
              "          0,    0,    0,    0,    0,    0,    0])"
            ]
          },
          "metadata": {
            "tags": []
          },
          "execution_count": 52
        }
      ]
    },
    {
      "cell_type": "code",
      "metadata": {
        "id": "v1NKmP0Fd4qD",
        "outputId": "a0c4a0ec-3109-4c07-a204-1bae76f6f42d",
        "colab": {
          "base_uri": "https://localhost:8080/"
        }
      },
      "source": [
        "# 어텐션 마스크 초기화\n",
        "attention_masks = []\n",
        "\n",
        "# 어텐션 마스크를 패딩이 아니면 1, 패딩이면 0으로 설정\n",
        "# 패딩 부분은 BERT 모델에서 어텐션을 수행하지 않아 속도 향상\n",
        "for seq in input_ids:\n",
        "    seq_mask = [float(i>0) for i in seq]\n",
        "    attention_masks.append(seq_mask)\n",
        "\n",
        "print(attention_masks[0])"
      ],
      "execution_count": 53,
      "outputs": [
        {
          "output_type": "stream",
          "text": [
            "[1.0, 1.0, 1.0, 1.0, 0.0, 0.0, 0.0, 0.0, 0.0, 0.0, 0.0, 0.0, 0.0, 0.0, 0.0, 0.0, 0.0, 0.0, 0.0, 0.0, 0.0, 0.0, 0.0, 0.0, 0.0, 0.0, 0.0, 0.0, 0.0, 0.0, 0.0, 0.0, 0.0, 0.0, 0.0, 0.0, 0.0, 0.0, 0.0, 0.0, 0.0, 0.0, 0.0, 0.0, 0.0, 0.0, 0.0, 0.0, 0.0, 0.0, 0.0, 0.0, 0.0, 0.0, 0.0, 0.0, 0.0, 0.0, 0.0, 0.0, 0.0, 0.0, 0.0, 0.0, 0.0, 0.0, 0.0, 0.0, 0.0, 0.0, 0.0, 0.0, 0.0, 0.0, 0.0, 0.0, 0.0, 0.0, 0.0, 0.0, 0.0, 0.0, 0.0, 0.0, 0.0, 0.0, 0.0, 0.0, 0.0, 0.0, 0.0, 0.0, 0.0, 0.0, 0.0, 0.0, 0.0, 0.0, 0.0, 0.0, 0.0, 0.0, 0.0, 0.0, 0.0, 0.0, 0.0, 0.0, 0.0, 0.0, 0.0, 0.0, 0.0, 0.0, 0.0, 0.0, 0.0, 0.0, 0.0, 0.0, 0.0, 0.0, 0.0, 0.0, 0.0, 0.0, 0.0, 0.0]\n"
          ],
          "name": "stdout"
        }
      ]
    },
    {
      "cell_type": "code",
      "metadata": {
        "id": "RIkaYCGbd4qG",
        "outputId": "dc2bf0e1-c499-45ae-d076-a45c5f23dee5",
        "colab": {
          "base_uri": "https://localhost:8080/"
        }
      },
      "source": [
        "# 데이터를 파이토치의 텐서로 변환\n",
        "test_inputs = torch.tensor(input_ids)\n",
        "test_labels = torch.tensor(labels)\n",
        "test_masks = torch.tensor(attention_masks)\n",
        "\n",
        "print(test_inputs[0])\n",
        "print(test_labels[0])\n",
        "print(test_masks[0])"
      ],
      "execution_count": 54,
      "outputs": [
        {
          "output_type": "stream",
          "text": [
            "tensor([ 101, 8911,  100,  102,    0,    0,    0,    0,    0,    0,    0,    0,\n",
            "           0,    0,    0,    0,    0,    0,    0,    0,    0,    0,    0,    0,\n",
            "           0,    0,    0,    0,    0,    0,    0,    0,    0,    0,    0,    0,\n",
            "           0,    0,    0,    0,    0,    0,    0,    0,    0,    0,    0,    0,\n",
            "           0,    0,    0,    0,    0,    0,    0,    0,    0,    0,    0,    0,\n",
            "           0,    0,    0,    0,    0,    0,    0,    0,    0,    0,    0,    0,\n",
            "           0,    0,    0,    0,    0,    0,    0,    0,    0,    0,    0,    0,\n",
            "           0,    0,    0,    0,    0,    0,    0,    0,    0,    0,    0,    0,\n",
            "           0,    0,    0,    0,    0,    0,    0,    0,    0,    0,    0,    0,\n",
            "           0,    0,    0,    0,    0,    0,    0,    0,    0,    0,    0,    0,\n",
            "           0,    0,    0,    0,    0,    0,    0,    0])\n",
            "tensor(1)\n",
            "tensor([1., 1., 1., 1., 0., 0., 0., 0., 0., 0., 0., 0., 0., 0., 0., 0., 0., 0.,\n",
            "        0., 0., 0., 0., 0., 0., 0., 0., 0., 0., 0., 0., 0., 0., 0., 0., 0., 0.,\n",
            "        0., 0., 0., 0., 0., 0., 0., 0., 0., 0., 0., 0., 0., 0., 0., 0., 0., 0.,\n",
            "        0., 0., 0., 0., 0., 0., 0., 0., 0., 0., 0., 0., 0., 0., 0., 0., 0., 0.,\n",
            "        0., 0., 0., 0., 0., 0., 0., 0., 0., 0., 0., 0., 0., 0., 0., 0., 0., 0.,\n",
            "        0., 0., 0., 0., 0., 0., 0., 0., 0., 0., 0., 0., 0., 0., 0., 0., 0., 0.,\n",
            "        0., 0., 0., 0., 0., 0., 0., 0., 0., 0., 0., 0., 0., 0., 0., 0., 0., 0.,\n",
            "        0., 0.])\n"
          ],
          "name": "stdout"
        }
      ]
    },
    {
      "cell_type": "code",
      "metadata": {
        "id": "7gwdYv1Ad4qK"
      },
      "source": [
        "# 배치 사이즈\n",
        "batch_size = 32\n",
        "\n",
        "# 파이토치의 DataLoader로 입력, 마스크, 라벨을 묶어 데이터 설정\n",
        "# 학습시 배치 사이즈 만큼 데이터를 가져옴\n",
        "test_data = TensorDataset(test_inputs, test_masks, test_labels)\n",
        "test_sampler = RandomSampler(test_data)\n",
        "test_dataloader = DataLoader(test_data, sampler=test_sampler, batch_size=batch_size)"
      ],
      "execution_count": 55,
      "outputs": []
    },
    {
      "cell_type": "markdown",
      "metadata": {
        "id": "FBvpU-Hfgcth"
      },
      "source": [
        "<br>\n",
        "<br>\n",
        "\n",
        "# **모델 생성**"
      ]
    },
    {
      "cell_type": "code",
      "metadata": {
        "id": "heToD1ev0mOg",
        "outputId": "3a2b24f6-8c68-46ee-f124-f2f9ece386fa",
        "colab": {
          "base_uri": "https://localhost:8080/"
        }
      },
      "source": [
        "# GPU 디바이스 이름 구함\n",
        "device_name = tf.test.gpu_device_name()\n",
        "\n",
        "# GPU 디바이스 이름 검사\n",
        "if device_name == '/device:GPU:0':\n",
        "    print('Found GPU at: {}'.format(device_name))\n",
        "else:\n",
        "    raise SystemError('GPU device not found')"
      ],
      "execution_count": 56,
      "outputs": [
        {
          "output_type": "stream",
          "text": [
            "Found GPU at: /device:GPU:0\n"
          ],
          "name": "stdout"
        }
      ]
    },
    {
      "cell_type": "code",
      "metadata": {
        "id": "f6enIxvt1FB2",
        "outputId": "af0eda61-5b30-462a-e0fa-b688493e9eb8",
        "colab": {
          "base_uri": "https://localhost:8080/"
        }
      },
      "source": [
        "# 디바이스 설정\n",
        "if torch.cuda.is_available():    \n",
        "    device = torch.device(\"cuda\")\n",
        "    print('There are %d GPU(s) available.' % torch.cuda.device_count())\n",
        "    print('We will use the GPU:', torch.cuda.get_device_name(0))\n",
        "else:\n",
        "    device = torch.device(\"cpu\")\n",
        "    print('No GPU available, using the CPU instead.')"
      ],
      "execution_count": null,
      "outputs": [
        {
          "output_type": "stream",
          "text": [
            "There are 1 GPU(s) available.\n",
            "We will use the GPU: Tesla P100-PCIE-16GB\n"
          ],
          "name": "stdout"
        }
      ]
    },
    {
      "cell_type": "code",
      "metadata": {
        "id": "MS2MXSiLg5zC",
        "outputId": "18d1fb90-647a-4d49-e089-cfa1f88be9a2",
        "colab": {
          "base_uri": "https://localhost:8080/"
        }
      },
      "source": [
        "# 분류를 위한 BERT 모델 생성\n",
        "model = BertForSequenceClassification.from_pretrained(\"bert-base-multilingual-cased\", num_labels=2)\n",
        "model.cuda()"
      ],
      "execution_count": 57,
      "outputs": [
        {
          "output_type": "stream",
          "text": [
            "Some weights of the model checkpoint at bert-base-multilingual-cased were not used when initializing BertForSequenceClassification: ['cls.predictions.bias', 'cls.predictions.transform.dense.weight', 'cls.predictions.transform.dense.bias', 'cls.predictions.decoder.weight', 'cls.seq_relationship.weight', 'cls.seq_relationship.bias', 'cls.predictions.transform.LayerNorm.weight', 'cls.predictions.transform.LayerNorm.bias']\n",
            "- This IS expected if you are initializing BertForSequenceClassification from the checkpoint of a model trained on another task or with another architecture (e.g. initializing a BertForSequenceClassification model from a BertForPretraining model).\n",
            "- This IS NOT expected if you are initializing BertForSequenceClassification from the checkpoint of a model that you expect to be exactly identical (initializing a BertForSequenceClassification model from a BertForSequenceClassification model).\n",
            "Some weights of BertForSequenceClassification were not initialized from the model checkpoint at bert-base-multilingual-cased and are newly initialized: ['classifier.weight', 'classifier.bias']\n",
            "You should probably TRAIN this model on a down-stream task to be able to use it for predictions and inference.\n"
          ],
          "name": "stderr"
        },
        {
          "output_type": "execute_result",
          "data": {
            "text/plain": [
              "BertForSequenceClassification(\n",
              "  (bert): BertModel(\n",
              "    (embeddings): BertEmbeddings(\n",
              "      (word_embeddings): Embedding(119547, 768, padding_idx=0)\n",
              "      (position_embeddings): Embedding(512, 768)\n",
              "      (token_type_embeddings): Embedding(2, 768)\n",
              "      (LayerNorm): LayerNorm((768,), eps=1e-12, elementwise_affine=True)\n",
              "      (dropout): Dropout(p=0.1, inplace=False)\n",
              "    )\n",
              "    (encoder): BertEncoder(\n",
              "      (layer): ModuleList(\n",
              "        (0): BertLayer(\n",
              "          (attention): BertAttention(\n",
              "            (self): BertSelfAttention(\n",
              "              (query): Linear(in_features=768, out_features=768, bias=True)\n",
              "              (key): Linear(in_features=768, out_features=768, bias=True)\n",
              "              (value): Linear(in_features=768, out_features=768, bias=True)\n",
              "              (dropout): Dropout(p=0.1, inplace=False)\n",
              "            )\n",
              "            (output): BertSelfOutput(\n",
              "              (dense): Linear(in_features=768, out_features=768, bias=True)\n",
              "              (LayerNorm): LayerNorm((768,), eps=1e-12, elementwise_affine=True)\n",
              "              (dropout): Dropout(p=0.1, inplace=False)\n",
              "            )\n",
              "          )\n",
              "          (intermediate): BertIntermediate(\n",
              "            (dense): Linear(in_features=768, out_features=3072, bias=True)\n",
              "          )\n",
              "          (output): BertOutput(\n",
              "            (dense): Linear(in_features=3072, out_features=768, bias=True)\n",
              "            (LayerNorm): LayerNorm((768,), eps=1e-12, elementwise_affine=True)\n",
              "            (dropout): Dropout(p=0.1, inplace=False)\n",
              "          )\n",
              "        )\n",
              "        (1): BertLayer(\n",
              "          (attention): BertAttention(\n",
              "            (self): BertSelfAttention(\n",
              "              (query): Linear(in_features=768, out_features=768, bias=True)\n",
              "              (key): Linear(in_features=768, out_features=768, bias=True)\n",
              "              (value): Linear(in_features=768, out_features=768, bias=True)\n",
              "              (dropout): Dropout(p=0.1, inplace=False)\n",
              "            )\n",
              "            (output): BertSelfOutput(\n",
              "              (dense): Linear(in_features=768, out_features=768, bias=True)\n",
              "              (LayerNorm): LayerNorm((768,), eps=1e-12, elementwise_affine=True)\n",
              "              (dropout): Dropout(p=0.1, inplace=False)\n",
              "            )\n",
              "          )\n",
              "          (intermediate): BertIntermediate(\n",
              "            (dense): Linear(in_features=768, out_features=3072, bias=True)\n",
              "          )\n",
              "          (output): BertOutput(\n",
              "            (dense): Linear(in_features=3072, out_features=768, bias=True)\n",
              "            (LayerNorm): LayerNorm((768,), eps=1e-12, elementwise_affine=True)\n",
              "            (dropout): Dropout(p=0.1, inplace=False)\n",
              "          )\n",
              "        )\n",
              "        (2): BertLayer(\n",
              "          (attention): BertAttention(\n",
              "            (self): BertSelfAttention(\n",
              "              (query): Linear(in_features=768, out_features=768, bias=True)\n",
              "              (key): Linear(in_features=768, out_features=768, bias=True)\n",
              "              (value): Linear(in_features=768, out_features=768, bias=True)\n",
              "              (dropout): Dropout(p=0.1, inplace=False)\n",
              "            )\n",
              "            (output): BertSelfOutput(\n",
              "              (dense): Linear(in_features=768, out_features=768, bias=True)\n",
              "              (LayerNorm): LayerNorm((768,), eps=1e-12, elementwise_affine=True)\n",
              "              (dropout): Dropout(p=0.1, inplace=False)\n",
              "            )\n",
              "          )\n",
              "          (intermediate): BertIntermediate(\n",
              "            (dense): Linear(in_features=768, out_features=3072, bias=True)\n",
              "          )\n",
              "          (output): BertOutput(\n",
              "            (dense): Linear(in_features=3072, out_features=768, bias=True)\n",
              "            (LayerNorm): LayerNorm((768,), eps=1e-12, elementwise_affine=True)\n",
              "            (dropout): Dropout(p=0.1, inplace=False)\n",
              "          )\n",
              "        )\n",
              "        (3): BertLayer(\n",
              "          (attention): BertAttention(\n",
              "            (self): BertSelfAttention(\n",
              "              (query): Linear(in_features=768, out_features=768, bias=True)\n",
              "              (key): Linear(in_features=768, out_features=768, bias=True)\n",
              "              (value): Linear(in_features=768, out_features=768, bias=True)\n",
              "              (dropout): Dropout(p=0.1, inplace=False)\n",
              "            )\n",
              "            (output): BertSelfOutput(\n",
              "              (dense): Linear(in_features=768, out_features=768, bias=True)\n",
              "              (LayerNorm): LayerNorm((768,), eps=1e-12, elementwise_affine=True)\n",
              "              (dropout): Dropout(p=0.1, inplace=False)\n",
              "            )\n",
              "          )\n",
              "          (intermediate): BertIntermediate(\n",
              "            (dense): Linear(in_features=768, out_features=3072, bias=True)\n",
              "          )\n",
              "          (output): BertOutput(\n",
              "            (dense): Linear(in_features=3072, out_features=768, bias=True)\n",
              "            (LayerNorm): LayerNorm((768,), eps=1e-12, elementwise_affine=True)\n",
              "            (dropout): Dropout(p=0.1, inplace=False)\n",
              "          )\n",
              "        )\n",
              "        (4): BertLayer(\n",
              "          (attention): BertAttention(\n",
              "            (self): BertSelfAttention(\n",
              "              (query): Linear(in_features=768, out_features=768, bias=True)\n",
              "              (key): Linear(in_features=768, out_features=768, bias=True)\n",
              "              (value): Linear(in_features=768, out_features=768, bias=True)\n",
              "              (dropout): Dropout(p=0.1, inplace=False)\n",
              "            )\n",
              "            (output): BertSelfOutput(\n",
              "              (dense): Linear(in_features=768, out_features=768, bias=True)\n",
              "              (LayerNorm): LayerNorm((768,), eps=1e-12, elementwise_affine=True)\n",
              "              (dropout): Dropout(p=0.1, inplace=False)\n",
              "            )\n",
              "          )\n",
              "          (intermediate): BertIntermediate(\n",
              "            (dense): Linear(in_features=768, out_features=3072, bias=True)\n",
              "          )\n",
              "          (output): BertOutput(\n",
              "            (dense): Linear(in_features=3072, out_features=768, bias=True)\n",
              "            (LayerNorm): LayerNorm((768,), eps=1e-12, elementwise_affine=True)\n",
              "            (dropout): Dropout(p=0.1, inplace=False)\n",
              "          )\n",
              "        )\n",
              "        (5): BertLayer(\n",
              "          (attention): BertAttention(\n",
              "            (self): BertSelfAttention(\n",
              "              (query): Linear(in_features=768, out_features=768, bias=True)\n",
              "              (key): Linear(in_features=768, out_features=768, bias=True)\n",
              "              (value): Linear(in_features=768, out_features=768, bias=True)\n",
              "              (dropout): Dropout(p=0.1, inplace=False)\n",
              "            )\n",
              "            (output): BertSelfOutput(\n",
              "              (dense): Linear(in_features=768, out_features=768, bias=True)\n",
              "              (LayerNorm): LayerNorm((768,), eps=1e-12, elementwise_affine=True)\n",
              "              (dropout): Dropout(p=0.1, inplace=False)\n",
              "            )\n",
              "          )\n",
              "          (intermediate): BertIntermediate(\n",
              "            (dense): Linear(in_features=768, out_features=3072, bias=True)\n",
              "          )\n",
              "          (output): BertOutput(\n",
              "            (dense): Linear(in_features=3072, out_features=768, bias=True)\n",
              "            (LayerNorm): LayerNorm((768,), eps=1e-12, elementwise_affine=True)\n",
              "            (dropout): Dropout(p=0.1, inplace=False)\n",
              "          )\n",
              "        )\n",
              "        (6): BertLayer(\n",
              "          (attention): BertAttention(\n",
              "            (self): BertSelfAttention(\n",
              "              (query): Linear(in_features=768, out_features=768, bias=True)\n",
              "              (key): Linear(in_features=768, out_features=768, bias=True)\n",
              "              (value): Linear(in_features=768, out_features=768, bias=True)\n",
              "              (dropout): Dropout(p=0.1, inplace=False)\n",
              "            )\n",
              "            (output): BertSelfOutput(\n",
              "              (dense): Linear(in_features=768, out_features=768, bias=True)\n",
              "              (LayerNorm): LayerNorm((768,), eps=1e-12, elementwise_affine=True)\n",
              "              (dropout): Dropout(p=0.1, inplace=False)\n",
              "            )\n",
              "          )\n",
              "          (intermediate): BertIntermediate(\n",
              "            (dense): Linear(in_features=768, out_features=3072, bias=True)\n",
              "          )\n",
              "          (output): BertOutput(\n",
              "            (dense): Linear(in_features=3072, out_features=768, bias=True)\n",
              "            (LayerNorm): LayerNorm((768,), eps=1e-12, elementwise_affine=True)\n",
              "            (dropout): Dropout(p=0.1, inplace=False)\n",
              "          )\n",
              "        )\n",
              "        (7): BertLayer(\n",
              "          (attention): BertAttention(\n",
              "            (self): BertSelfAttention(\n",
              "              (query): Linear(in_features=768, out_features=768, bias=True)\n",
              "              (key): Linear(in_features=768, out_features=768, bias=True)\n",
              "              (value): Linear(in_features=768, out_features=768, bias=True)\n",
              "              (dropout): Dropout(p=0.1, inplace=False)\n",
              "            )\n",
              "            (output): BertSelfOutput(\n",
              "              (dense): Linear(in_features=768, out_features=768, bias=True)\n",
              "              (LayerNorm): LayerNorm((768,), eps=1e-12, elementwise_affine=True)\n",
              "              (dropout): Dropout(p=0.1, inplace=False)\n",
              "            )\n",
              "          )\n",
              "          (intermediate): BertIntermediate(\n",
              "            (dense): Linear(in_features=768, out_features=3072, bias=True)\n",
              "          )\n",
              "          (output): BertOutput(\n",
              "            (dense): Linear(in_features=3072, out_features=768, bias=True)\n",
              "            (LayerNorm): LayerNorm((768,), eps=1e-12, elementwise_affine=True)\n",
              "            (dropout): Dropout(p=0.1, inplace=False)\n",
              "          )\n",
              "        )\n",
              "        (8): BertLayer(\n",
              "          (attention): BertAttention(\n",
              "            (self): BertSelfAttention(\n",
              "              (query): Linear(in_features=768, out_features=768, bias=True)\n",
              "              (key): Linear(in_features=768, out_features=768, bias=True)\n",
              "              (value): Linear(in_features=768, out_features=768, bias=True)\n",
              "              (dropout): Dropout(p=0.1, inplace=False)\n",
              "            )\n",
              "            (output): BertSelfOutput(\n",
              "              (dense): Linear(in_features=768, out_features=768, bias=True)\n",
              "              (LayerNorm): LayerNorm((768,), eps=1e-12, elementwise_affine=True)\n",
              "              (dropout): Dropout(p=0.1, inplace=False)\n",
              "            )\n",
              "          )\n",
              "          (intermediate): BertIntermediate(\n",
              "            (dense): Linear(in_features=768, out_features=3072, bias=True)\n",
              "          )\n",
              "          (output): BertOutput(\n",
              "            (dense): Linear(in_features=3072, out_features=768, bias=True)\n",
              "            (LayerNorm): LayerNorm((768,), eps=1e-12, elementwise_affine=True)\n",
              "            (dropout): Dropout(p=0.1, inplace=False)\n",
              "          )\n",
              "        )\n",
              "        (9): BertLayer(\n",
              "          (attention): BertAttention(\n",
              "            (self): BertSelfAttention(\n",
              "              (query): Linear(in_features=768, out_features=768, bias=True)\n",
              "              (key): Linear(in_features=768, out_features=768, bias=True)\n",
              "              (value): Linear(in_features=768, out_features=768, bias=True)\n",
              "              (dropout): Dropout(p=0.1, inplace=False)\n",
              "            )\n",
              "            (output): BertSelfOutput(\n",
              "              (dense): Linear(in_features=768, out_features=768, bias=True)\n",
              "              (LayerNorm): LayerNorm((768,), eps=1e-12, elementwise_affine=True)\n",
              "              (dropout): Dropout(p=0.1, inplace=False)\n",
              "            )\n",
              "          )\n",
              "          (intermediate): BertIntermediate(\n",
              "            (dense): Linear(in_features=768, out_features=3072, bias=True)\n",
              "          )\n",
              "          (output): BertOutput(\n",
              "            (dense): Linear(in_features=3072, out_features=768, bias=True)\n",
              "            (LayerNorm): LayerNorm((768,), eps=1e-12, elementwise_affine=True)\n",
              "            (dropout): Dropout(p=0.1, inplace=False)\n",
              "          )\n",
              "        )\n",
              "        (10): BertLayer(\n",
              "          (attention): BertAttention(\n",
              "            (self): BertSelfAttention(\n",
              "              (query): Linear(in_features=768, out_features=768, bias=True)\n",
              "              (key): Linear(in_features=768, out_features=768, bias=True)\n",
              "              (value): Linear(in_features=768, out_features=768, bias=True)\n",
              "              (dropout): Dropout(p=0.1, inplace=False)\n",
              "            )\n",
              "            (output): BertSelfOutput(\n",
              "              (dense): Linear(in_features=768, out_features=768, bias=True)\n",
              "              (LayerNorm): LayerNorm((768,), eps=1e-12, elementwise_affine=True)\n",
              "              (dropout): Dropout(p=0.1, inplace=False)\n",
              "            )\n",
              "          )\n",
              "          (intermediate): BertIntermediate(\n",
              "            (dense): Linear(in_features=768, out_features=3072, bias=True)\n",
              "          )\n",
              "          (output): BertOutput(\n",
              "            (dense): Linear(in_features=3072, out_features=768, bias=True)\n",
              "            (LayerNorm): LayerNorm((768,), eps=1e-12, elementwise_affine=True)\n",
              "            (dropout): Dropout(p=0.1, inplace=False)\n",
              "          )\n",
              "        )\n",
              "        (11): BertLayer(\n",
              "          (attention): BertAttention(\n",
              "            (self): BertSelfAttention(\n",
              "              (query): Linear(in_features=768, out_features=768, bias=True)\n",
              "              (key): Linear(in_features=768, out_features=768, bias=True)\n",
              "              (value): Linear(in_features=768, out_features=768, bias=True)\n",
              "              (dropout): Dropout(p=0.1, inplace=False)\n",
              "            )\n",
              "            (output): BertSelfOutput(\n",
              "              (dense): Linear(in_features=768, out_features=768, bias=True)\n",
              "              (LayerNorm): LayerNorm((768,), eps=1e-12, elementwise_affine=True)\n",
              "              (dropout): Dropout(p=0.1, inplace=False)\n",
              "            )\n",
              "          )\n",
              "          (intermediate): BertIntermediate(\n",
              "            (dense): Linear(in_features=768, out_features=3072, bias=True)\n",
              "          )\n",
              "          (output): BertOutput(\n",
              "            (dense): Linear(in_features=3072, out_features=768, bias=True)\n",
              "            (LayerNorm): LayerNorm((768,), eps=1e-12, elementwise_affine=True)\n",
              "            (dropout): Dropout(p=0.1, inplace=False)\n",
              "          )\n",
              "        )\n",
              "      )\n",
              "    )\n",
              "    (pooler): BertPooler(\n",
              "      (dense): Linear(in_features=768, out_features=768, bias=True)\n",
              "      (activation): Tanh()\n",
              "    )\n",
              "  )\n",
              "  (dropout): Dropout(p=0.1, inplace=False)\n",
              "  (classifier): Linear(in_features=768, out_features=2, bias=True)\n",
              ")"
            ]
          },
          "metadata": {
            "tags": []
          },
          "execution_count": 57
        }
      ]
    },
    {
      "cell_type": "markdown",
      "metadata": {
        "id": "RlszxDr6h8GP"
      },
      "source": [
        "![image.png](data:image/png;base64,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)"
      ]
    },
    {
      "cell_type": "code",
      "metadata": {
        "id": "ZIdfbLTuWmxk"
      },
      "source": [
        "# 옵티마이저 설정\n",
        "optimizer = AdamW(model.parameters(),\n",
        "                  lr = 2e-5, # 학습률\n",
        "                  eps = 1e-8 # 0으로 나누는 것을 방지하기 위한 epsilon 값\n",
        "                )\n",
        "\n",
        "# 에폭수\n",
        "epochs = 3\n",
        "\n",
        "# 총 훈련 스텝 : 배치반복 횟수 * 에폭\n",
        "total_steps = len(train_dataloader) * epochs\n",
        "\n",
        "# 처음에 학습률을 조금씩 변화시키는 스케줄러 생성\n",
        "scheduler = get_linear_schedule_with_warmup(optimizer, \n",
        "                                            num_warmup_steps = 0,\n",
        "                                            num_training_steps = total_steps)"
      ],
      "execution_count": 58,
      "outputs": []
    },
    {
      "cell_type": "markdown",
      "metadata": {
        "id": "gzCHV_ghj7DM"
      },
      "source": [
        "<br>\n",
        "<br>\n",
        "\n",
        "# **모델 학습**"
      ]
    },
    {
      "cell_type": "code",
      "metadata": {
        "id": "S0-p6pPVXCRe"
      },
      "source": [
        "# 정확도 계산 함수\n",
        "def flat_accuracy(preds, labels):\n",
        "    \n",
        "    pred_flat = np.argmax(preds, axis=1).flatten()\n",
        "    labels_flat = labels.flatten()\n",
        "\n",
        "    return np.sum(pred_flat == labels_flat) / len(labels_flat)"
      ],
      "execution_count": 59,
      "outputs": []
    },
    {
      "cell_type": "code",
      "metadata": {
        "id": "FJXISnJzCdLM"
      },
      "source": [
        "# 시간 표시 함수\n",
        "def format_time(elapsed):\n",
        "\n",
        "    # 반올림\n",
        "    elapsed_rounded = int(round((elapsed)))\n",
        "    \n",
        "    # hh:mm:ss으로 형태 변경\n",
        "    return str(datetime.timedelta(seconds=elapsed_rounded))"
      ],
      "execution_count": 60,
      "outputs": []
    },
    {
      "cell_type": "code",
      "metadata": {
        "id": "muU2kS2GCh4y",
        "outputId": "a137ec8b-33da-4561-b033-1623e3c03fb8",
        "colab": {
          "base_uri": "https://localhost:8080/",
          "height": 439
        }
      },
      "source": [
        "# 재현을 위해 랜덤시드 고정\n",
        "seed_val = 42\n",
        "random.seed(seed_val)\n",
        "np.random.seed(seed_val)\n",
        "torch.manual_seed(seed_val)\n",
        "torch.cuda.manual_seed_all(seed_val)\n",
        "\n",
        "# 그래디언트 초기화\n",
        "model.zero_grad()\n",
        "\n",
        "# 에폭만큼 반복\n",
        "for epoch_i in range(0, epochs):\n",
        "    \n",
        "    # ========================================\n",
        "    #               Training\n",
        "    # ========================================\n",
        "    \n",
        "    print(\"\")\n",
        "    print('======== Epoch {:} / {:} ========'.format(epoch_i + 1, epochs))\n",
        "    print('Training...')\n",
        "\n",
        "    # 시작 시간 설정\n",
        "    t0 = time.time()\n",
        "\n",
        "    # 로스 초기화\n",
        "    total_loss = 0\n",
        "\n",
        "    # 훈련모드로 변경\n",
        "    model.train()\n",
        "        \n",
        "    # 데이터로더에서 배치만큼 반복하여 가져옴\n",
        "    for step, batch in enumerate(train_dataloader):\n",
        "        # 경과 정보 표시\n",
        "        if step % 500 == 0 and not step == 0:\n",
        "            elapsed = format_time(time.time() - t0)\n",
        "            print('  Batch {:>5,}  of  {:>5,}.    Elapsed: {:}.'.format(step, len(train_dataloader), elapsed))\n",
        "\n",
        "        # 배치를 GPU에 넣음\n",
        "        batch = tuple(t.to(device) for t in batch)\n",
        "        \n",
        "        # 배치에서 데이터 추출\n",
        "        b_input_ids, b_input_mask, b_labels = batch\n",
        "\n",
        "        # Forward 수행                \n",
        "        outputs = model(b_input_ids, \n",
        "                        token_type_ids=None, \n",
        "                        attention_mask=b_input_mask, \n",
        "                        labels=b_labels)\n",
        "        \n",
        "        # 로스 구함\n",
        "        loss = outputs[0]\n",
        "\n",
        "        # 총 로스 계산\n",
        "        total_loss += loss.item()\n",
        "\n",
        "        # Backward 수행으로 그래디언트 계산\n",
        "        loss.backward()\n",
        "\n",
        "        # 그래디언트 클리핑\n",
        "        torch.nn.utils.clip_grad_norm_(model.parameters(), 1.0)\n",
        "\n",
        "        # 그래디언트를 통해 가중치 파라미터 업데이트\n",
        "        optimizer.step()\n",
        "\n",
        "        # 스케줄러로 학습률 감소\n",
        "        scheduler.step()\n",
        "\n",
        "        # 그래디언트 초기화\n",
        "        model.zero_grad()\n",
        "\n",
        "    # 평균 로스 계산\n",
        "    avg_train_loss = total_loss / len(train_dataloader)            \n",
        "\n",
        "    print(\"\")\n",
        "    print(\"  Average training loss: {0:.2f}\".format(avg_train_loss))\n",
        "    print(\"  Training epcoh took: {:}\".format(format_time(time.time() - t0)))\n",
        "        \n",
        "    # ========================================\n",
        "    #               Validation\n",
        "    # ========================================\n",
        "\n",
        "    print(\"\")\n",
        "    print(\"Running Validation...\")\n",
        "\n",
        "    #시작 시간 설정\n",
        "    t0 = time.time()\n",
        "\n",
        "    # 평가모드로 변경\n",
        "    model.eval()\n",
        "\n",
        "    # 변수 초기화\n",
        "    eval_loss, eval_accuracy = 0, 0\n",
        "    nb_eval_steps, nb_eval_examples = 0, 0\n",
        "\n",
        "    # 데이터로더에서 배치만큼 반복하여 가져옴\n",
        "    for batch in validation_dataloader:\n",
        "        # 배치를 GPU에 넣음\n",
        "        batch = tuple(t.to(device) for t in batch)\n",
        "        \n",
        "        # 배치에서 데이터 추출\n",
        "        b_input_ids, b_input_mask, b_labels = batch\n",
        "        \n",
        "        # 그래디언트 계산 안함\n",
        "        with torch.no_grad():     \n",
        "            # Forward 수행\n",
        "            outputs = model(b_input_ids, \n",
        "                            token_type_ids=None, \n",
        "                            attention_mask=b_input_mask)\n",
        "        \n",
        "        # 로스 구함\n",
        "        logits = outputs[0]\n",
        "\n",
        "        # CPU로 데이터 이동\n",
        "        logits = logits.detach().cpu().numpy()\n",
        "        label_ids = b_labels.to('cpu').numpy()\n",
        "        \n",
        "        # 출력 로짓과 라벨을 비교하여 정확도 계산\n",
        "        tmp_eval_accuracy = flat_accuracy(logits, label_ids)\n",
        "        eval_accuracy += tmp_eval_accuracy\n",
        "        nb_eval_steps += 1\n",
        "\n",
        "    print(\"  Accuracy: {0:.2f}\".format(eval_accuracy/nb_eval_steps))\n",
        "    print(\"  Validation took: {:}\".format(format_time(time.time() - t0)))\n",
        "\n",
        "print(\"\")\n",
        "print(\"Training complete!\")"
      ],
      "execution_count": 61,
      "outputs": [
        {
          "output_type": "stream",
          "text": [
            "\n",
            "======== Epoch 1 / 3 ========\n",
            "Training...\n"
          ],
          "name": "stdout"
        },
        {
          "output_type": "error",
          "ename": "KeyboardInterrupt",
          "evalue": "ignored",
          "traceback": [
            "\u001b[0;31m---------------------------------------------------------------------------\u001b[0m",
            "\u001b[0;31mKeyboardInterrupt\u001b[0m                         Traceback (most recent call last)",
            "\u001b[0;32m<ipython-input-61-899a0ed1450c>\u001b[0m in \u001b[0;36m<module>\u001b[0;34m()\u001b[0m\n\u001b[1;32m     55\u001b[0m \u001b[0;34m\u001b[0m\u001b[0m\n\u001b[1;32m     56\u001b[0m         \u001b[0;31m# Backward 수행으로 그래디언트 계산\u001b[0m\u001b[0;34m\u001b[0m\u001b[0;34m\u001b[0m\u001b[0;34m\u001b[0m\u001b[0m\n\u001b[0;32m---> 57\u001b[0;31m         \u001b[0mloss\u001b[0m\u001b[0;34m.\u001b[0m\u001b[0mbackward\u001b[0m\u001b[0;34m(\u001b[0m\u001b[0;34m)\u001b[0m\u001b[0;34m\u001b[0m\u001b[0;34m\u001b[0m\u001b[0m\n\u001b[0m\u001b[1;32m     58\u001b[0m \u001b[0;34m\u001b[0m\u001b[0m\n\u001b[1;32m     59\u001b[0m         \u001b[0;31m# 그래디언트 클리핑\u001b[0m\u001b[0;34m\u001b[0m\u001b[0;34m\u001b[0m\u001b[0;34m\u001b[0m\u001b[0m\n",
            "\u001b[0;32m/usr/local/lib/python3.6/dist-packages/torch/tensor.py\u001b[0m in \u001b[0;36mbackward\u001b[0;34m(self, gradient, retain_graph, create_graph)\u001b[0m\n\u001b[1;32m    219\u001b[0m                 \u001b[0mretain_graph\u001b[0m\u001b[0;34m=\u001b[0m\u001b[0mretain_graph\u001b[0m\u001b[0;34m,\u001b[0m\u001b[0;34m\u001b[0m\u001b[0;34m\u001b[0m\u001b[0m\n\u001b[1;32m    220\u001b[0m                 create_graph=create_graph)\n\u001b[0;32m--> 221\u001b[0;31m         \u001b[0mtorch\u001b[0m\u001b[0;34m.\u001b[0m\u001b[0mautograd\u001b[0m\u001b[0;34m.\u001b[0m\u001b[0mbackward\u001b[0m\u001b[0;34m(\u001b[0m\u001b[0mself\u001b[0m\u001b[0;34m,\u001b[0m \u001b[0mgradient\u001b[0m\u001b[0;34m,\u001b[0m \u001b[0mretain_graph\u001b[0m\u001b[0;34m,\u001b[0m \u001b[0mcreate_graph\u001b[0m\u001b[0;34m)\u001b[0m\u001b[0;34m\u001b[0m\u001b[0;34m\u001b[0m\u001b[0m\n\u001b[0m\u001b[1;32m    222\u001b[0m \u001b[0;34m\u001b[0m\u001b[0m\n\u001b[1;32m    223\u001b[0m     \u001b[0;32mdef\u001b[0m \u001b[0mregister_hook\u001b[0m\u001b[0;34m(\u001b[0m\u001b[0mself\u001b[0m\u001b[0;34m,\u001b[0m \u001b[0mhook\u001b[0m\u001b[0;34m)\u001b[0m\u001b[0;34m:\u001b[0m\u001b[0;34m\u001b[0m\u001b[0;34m\u001b[0m\u001b[0m\n",
            "\u001b[0;32m/usr/local/lib/python3.6/dist-packages/torch/autograd/__init__.py\u001b[0m in \u001b[0;36mbackward\u001b[0;34m(tensors, grad_tensors, retain_graph, create_graph, grad_variables)\u001b[0m\n\u001b[1;32m    130\u001b[0m     Variable._execution_engine.run_backward(\n\u001b[1;32m    131\u001b[0m         \u001b[0mtensors\u001b[0m\u001b[0;34m,\u001b[0m \u001b[0mgrad_tensors_\u001b[0m\u001b[0;34m,\u001b[0m \u001b[0mretain_graph\u001b[0m\u001b[0;34m,\u001b[0m \u001b[0mcreate_graph\u001b[0m\u001b[0;34m,\u001b[0m\u001b[0;34m\u001b[0m\u001b[0;34m\u001b[0m\u001b[0m\n\u001b[0;32m--> 132\u001b[0;31m         allow_unreachable=True)  # allow_unreachable flag\n\u001b[0m\u001b[1;32m    133\u001b[0m \u001b[0;34m\u001b[0m\u001b[0m\n\u001b[1;32m    134\u001b[0m \u001b[0;34m\u001b[0m\u001b[0m\n",
            "\u001b[0;31mKeyboardInterrupt\u001b[0m: "
          ]
        }
      ]
    },
    {
      "cell_type": "code",
      "metadata": {
        "id": "b3tM1cy3_b8o"
      },
      "source": [
        "PATH = \"/content/drive/My Drive/mu_bert/bert_naver_model.pth\"\n",
        "#torch.save(model.state_dict(), PATH)"
      ],
      "execution_count": 62,
      "outputs": []
    },
    {
      "cell_type": "markdown",
      "metadata": {
        "id": "6BVbl4Zjatzn"
      },
      "source": [
        "<br>\n",
        "<br>\n",
        "\n",
        "# **테스트셋 평가**"
      ]
    },
    {
      "cell_type": "code",
      "metadata": {
        "id": "c5KHb6RkbHdj",
        "outputId": "24fa3346-4d95-4b87-edc4-2df6a0815c5a",
        "colab": {
          "base_uri": "https://localhost:8080/"
        }
      },
      "source": [
        "#시작 시간 설정\n",
        "t0 = time.time()\n",
        "\n",
        "# 평가모드로 변경\n",
        "model.eval()\n",
        "\n",
        "# 변수 초기화\n",
        "eval_loss, eval_accuracy = 0, 0\n",
        "nb_eval_steps, nb_eval_examples = 0, 0\n",
        "\n",
        "# 데이터로더에서 배치만큼 반복하여 가져옴\n",
        "for step, batch in enumerate(test_dataloader):\n",
        "    # 경과 정보 표시\n",
        "    if step % 100 == 0 and not step == 0:\n",
        "        elapsed = format_time(time.time() - t0)\n",
        "        print('  Batch {:>5,}  of  {:>5,}.    Elapsed: {:}.'.format(step, len(test_dataloader), elapsed))\n",
        "\n",
        "    # 배치를 GPU에 넣음\n",
        "    batch = tuple(t.to(device) for t in batch)\n",
        "    \n",
        "    # 배치에서 데이터 추출\n",
        "    b_input_ids, b_input_mask, b_labels = batch\n",
        "    \n",
        "    # 그래디언트 계산 안함\n",
        "    with torch.no_grad():     \n",
        "        # Forward 수행\n",
        "        outputs = model(b_input_ids, \n",
        "                        token_type_ids=None, \n",
        "                        attention_mask=b_input_mask)\n",
        "    \n",
        "    # 로스 구함\n",
        "    logits = outputs[0]\n",
        "\n",
        "    # CPU로 데이터 이동\n",
        "    logits = logits.detach().cpu().numpy()\n",
        "    label_ids = b_labels.to('cpu').numpy()\n",
        "    \n",
        "    # 출력 로짓과 라벨을 비교하여 정확도 계산\n",
        "    tmp_eval_accuracy = flat_accuracy(logits, label_ids)\n",
        "    eval_accuracy += tmp_eval_accuracy\n",
        "    nb_eval_steps += 1\n",
        "\n",
        "print(\"\")\n",
        "print(\"Accuracy: {0:.2f}\".format(eval_accuracy/nb_eval_steps))\n",
        "print(\"Test took: {:}\".format(format_time(time.time() - t0)))"
      ],
      "execution_count": null,
      "outputs": [
        {
          "output_type": "stream",
          "text": [
            "  Batch   100  of  1,563.    Elapsed: 0:00:12.\n",
            "  Batch   200  of  1,563.    Elapsed: 0:00:25.\n",
            "  Batch   300  of  1,563.    Elapsed: 0:00:37.\n",
            "  Batch   400  of  1,563.    Elapsed: 0:00:49.\n",
            "  Batch   500  of  1,563.    Elapsed: 0:01:01.\n",
            "  Batch   600  of  1,563.    Elapsed: 0:01:14.\n",
            "  Batch   700  of  1,563.    Elapsed: 0:01:26.\n",
            "  Batch   800  of  1,563.    Elapsed: 0:01:38.\n",
            "  Batch   900  of  1,563.    Elapsed: 0:01:51.\n",
            "  Batch 1,000  of  1,563.    Elapsed: 0:02:03.\n",
            "  Batch 1,100  of  1,563.    Elapsed: 0:02:15.\n",
            "  Batch 1,200  of  1,563.    Elapsed: 0:02:27.\n",
            "  Batch 1,300  of  1,563.    Elapsed: 0:02:40.\n",
            "  Batch 1,400  of  1,563.    Elapsed: 0:02:52.\n",
            "  Batch 1,500  of  1,563.    Elapsed: 0:03:04.\n",
            "\n",
            "Accuracy: 0.87\n",
            "Test took: 0:03:12\n"
          ],
          "name": "stdout"
        }
      ]
    },
    {
      "cell_type": "code",
      "metadata": {
        "id": "fJu2skuzCANS",
        "outputId": "5cc6089e-377e-435a-b065-cb2f392a01d7",
        "colab": {
          "base_uri": "https://localhost:8080/"
        }
      },
      "source": [
        "model = BertForSequenceClassification.from_pretrained(\"bert-base-multilingual-cased\", num_labels=2)\n",
        "model.cuda()\n",
        "model.load_state_dict(torch.load(PATH))\n",
        "model.eval()"
      ],
      "execution_count": 66,
      "outputs": [
        {
          "output_type": "stream",
          "text": [
            "Some weights of the model checkpoint at bert-base-multilingual-cased were not used when initializing BertForSequenceClassification: ['cls.predictions.bias', 'cls.predictions.transform.dense.weight', 'cls.predictions.transform.dense.bias', 'cls.predictions.decoder.weight', 'cls.seq_relationship.weight', 'cls.seq_relationship.bias', 'cls.predictions.transform.LayerNorm.weight', 'cls.predictions.transform.LayerNorm.bias']\n",
            "- This IS expected if you are initializing BertForSequenceClassification from the checkpoint of a model trained on another task or with another architecture (e.g. initializing a BertForSequenceClassification model from a BertForPretraining model).\n",
            "- This IS NOT expected if you are initializing BertForSequenceClassification from the checkpoint of a model that you expect to be exactly identical (initializing a BertForSequenceClassification model from a BertForSequenceClassification model).\n",
            "Some weights of BertForSequenceClassification were not initialized from the model checkpoint at bert-base-multilingual-cased and are newly initialized: ['classifier.weight', 'classifier.bias']\n",
            "You should probably TRAIN this model on a down-stream task to be able to use it for predictions and inference.\n"
          ],
          "name": "stderr"
        },
        {
          "output_type": "execute_result",
          "data": {
            "text/plain": [
              "BertForSequenceClassification(\n",
              "  (bert): BertModel(\n",
              "    (embeddings): BertEmbeddings(\n",
              "      (word_embeddings): Embedding(119547, 768, padding_idx=0)\n",
              "      (position_embeddings): Embedding(512, 768)\n",
              "      (token_type_embeddings): Embedding(2, 768)\n",
              "      (LayerNorm): LayerNorm((768,), eps=1e-12, elementwise_affine=True)\n",
              "      (dropout): Dropout(p=0.1, inplace=False)\n",
              "    )\n",
              "    (encoder): BertEncoder(\n",
              "      (layer): ModuleList(\n",
              "        (0): BertLayer(\n",
              "          (attention): BertAttention(\n",
              "            (self): BertSelfAttention(\n",
              "              (query): Linear(in_features=768, out_features=768, bias=True)\n",
              "              (key): Linear(in_features=768, out_features=768, bias=True)\n",
              "              (value): Linear(in_features=768, out_features=768, bias=True)\n",
              "              (dropout): Dropout(p=0.1, inplace=False)\n",
              "            )\n",
              "            (output): BertSelfOutput(\n",
              "              (dense): Linear(in_features=768, out_features=768, bias=True)\n",
              "              (LayerNorm): LayerNorm((768,), eps=1e-12, elementwise_affine=True)\n",
              "              (dropout): Dropout(p=0.1, inplace=False)\n",
              "            )\n",
              "          )\n",
              "          (intermediate): BertIntermediate(\n",
              "            (dense): Linear(in_features=768, out_features=3072, bias=True)\n",
              "          )\n",
              "          (output): BertOutput(\n",
              "            (dense): Linear(in_features=3072, out_features=768, bias=True)\n",
              "            (LayerNorm): LayerNorm((768,), eps=1e-12, elementwise_affine=True)\n",
              "            (dropout): Dropout(p=0.1, inplace=False)\n",
              "          )\n",
              "        )\n",
              "        (1): BertLayer(\n",
              "          (attention): BertAttention(\n",
              "            (self): BertSelfAttention(\n",
              "              (query): Linear(in_features=768, out_features=768, bias=True)\n",
              "              (key): Linear(in_features=768, out_features=768, bias=True)\n",
              "              (value): Linear(in_features=768, out_features=768, bias=True)\n",
              "              (dropout): Dropout(p=0.1, inplace=False)\n",
              "            )\n",
              "            (output): BertSelfOutput(\n",
              "              (dense): Linear(in_features=768, out_features=768, bias=True)\n",
              "              (LayerNorm): LayerNorm((768,), eps=1e-12, elementwise_affine=True)\n",
              "              (dropout): Dropout(p=0.1, inplace=False)\n",
              "            )\n",
              "          )\n",
              "          (intermediate): BertIntermediate(\n",
              "            (dense): Linear(in_features=768, out_features=3072, bias=True)\n",
              "          )\n",
              "          (output): BertOutput(\n",
              "            (dense): Linear(in_features=3072, out_features=768, bias=True)\n",
              "            (LayerNorm): LayerNorm((768,), eps=1e-12, elementwise_affine=True)\n",
              "            (dropout): Dropout(p=0.1, inplace=False)\n",
              "          )\n",
              "        )\n",
              "        (2): BertLayer(\n",
              "          (attention): BertAttention(\n",
              "            (self): BertSelfAttention(\n",
              "              (query): Linear(in_features=768, out_features=768, bias=True)\n",
              "              (key): Linear(in_features=768, out_features=768, bias=True)\n",
              "              (value): Linear(in_features=768, out_features=768, bias=True)\n",
              "              (dropout): Dropout(p=0.1, inplace=False)\n",
              "            )\n",
              "            (output): BertSelfOutput(\n",
              "              (dense): Linear(in_features=768, out_features=768, bias=True)\n",
              "              (LayerNorm): LayerNorm((768,), eps=1e-12, elementwise_affine=True)\n",
              "              (dropout): Dropout(p=0.1, inplace=False)\n",
              "            )\n",
              "          )\n",
              "          (intermediate): BertIntermediate(\n",
              "            (dense): Linear(in_features=768, out_features=3072, bias=True)\n",
              "          )\n",
              "          (output): BertOutput(\n",
              "            (dense): Linear(in_features=3072, out_features=768, bias=True)\n",
              "            (LayerNorm): LayerNorm((768,), eps=1e-12, elementwise_affine=True)\n",
              "            (dropout): Dropout(p=0.1, inplace=False)\n",
              "          )\n",
              "        )\n",
              "        (3): BertLayer(\n",
              "          (attention): BertAttention(\n",
              "            (self): BertSelfAttention(\n",
              "              (query): Linear(in_features=768, out_features=768, bias=True)\n",
              "              (key): Linear(in_features=768, out_features=768, bias=True)\n",
              "              (value): Linear(in_features=768, out_features=768, bias=True)\n",
              "              (dropout): Dropout(p=0.1, inplace=False)\n",
              "            )\n",
              "            (output): BertSelfOutput(\n",
              "              (dense): Linear(in_features=768, out_features=768, bias=True)\n",
              "              (LayerNorm): LayerNorm((768,), eps=1e-12, elementwise_affine=True)\n",
              "              (dropout): Dropout(p=0.1, inplace=False)\n",
              "            )\n",
              "          )\n",
              "          (intermediate): BertIntermediate(\n",
              "            (dense): Linear(in_features=768, out_features=3072, bias=True)\n",
              "          )\n",
              "          (output): BertOutput(\n",
              "            (dense): Linear(in_features=3072, out_features=768, bias=True)\n",
              "            (LayerNorm): LayerNorm((768,), eps=1e-12, elementwise_affine=True)\n",
              "            (dropout): Dropout(p=0.1, inplace=False)\n",
              "          )\n",
              "        )\n",
              "        (4): BertLayer(\n",
              "          (attention): BertAttention(\n",
              "            (self): BertSelfAttention(\n",
              "              (query): Linear(in_features=768, out_features=768, bias=True)\n",
              "              (key): Linear(in_features=768, out_features=768, bias=True)\n",
              "              (value): Linear(in_features=768, out_features=768, bias=True)\n",
              "              (dropout): Dropout(p=0.1, inplace=False)\n",
              "            )\n",
              "            (output): BertSelfOutput(\n",
              "              (dense): Linear(in_features=768, out_features=768, bias=True)\n",
              "              (LayerNorm): LayerNorm((768,), eps=1e-12, elementwise_affine=True)\n",
              "              (dropout): Dropout(p=0.1, inplace=False)\n",
              "            )\n",
              "          )\n",
              "          (intermediate): BertIntermediate(\n",
              "            (dense): Linear(in_features=768, out_features=3072, bias=True)\n",
              "          )\n",
              "          (output): BertOutput(\n",
              "            (dense): Linear(in_features=3072, out_features=768, bias=True)\n",
              "            (LayerNorm): LayerNorm((768,), eps=1e-12, elementwise_affine=True)\n",
              "            (dropout): Dropout(p=0.1, inplace=False)\n",
              "          )\n",
              "        )\n",
              "        (5): BertLayer(\n",
              "          (attention): BertAttention(\n",
              "            (self): BertSelfAttention(\n",
              "              (query): Linear(in_features=768, out_features=768, bias=True)\n",
              "              (key): Linear(in_features=768, out_features=768, bias=True)\n",
              "              (value): Linear(in_features=768, out_features=768, bias=True)\n",
              "              (dropout): Dropout(p=0.1, inplace=False)\n",
              "            )\n",
              "            (output): BertSelfOutput(\n",
              "              (dense): Linear(in_features=768, out_features=768, bias=True)\n",
              "              (LayerNorm): LayerNorm((768,), eps=1e-12, elementwise_affine=True)\n",
              "              (dropout): Dropout(p=0.1, inplace=False)\n",
              "            )\n",
              "          )\n",
              "          (intermediate): BertIntermediate(\n",
              "            (dense): Linear(in_features=768, out_features=3072, bias=True)\n",
              "          )\n",
              "          (output): BertOutput(\n",
              "            (dense): Linear(in_features=3072, out_features=768, bias=True)\n",
              "            (LayerNorm): LayerNorm((768,), eps=1e-12, elementwise_affine=True)\n",
              "            (dropout): Dropout(p=0.1, inplace=False)\n",
              "          )\n",
              "        )\n",
              "        (6): BertLayer(\n",
              "          (attention): BertAttention(\n",
              "            (self): BertSelfAttention(\n",
              "              (query): Linear(in_features=768, out_features=768, bias=True)\n",
              "              (key): Linear(in_features=768, out_features=768, bias=True)\n",
              "              (value): Linear(in_features=768, out_features=768, bias=True)\n",
              "              (dropout): Dropout(p=0.1, inplace=False)\n",
              "            )\n",
              "            (output): BertSelfOutput(\n",
              "              (dense): Linear(in_features=768, out_features=768, bias=True)\n",
              "              (LayerNorm): LayerNorm((768,), eps=1e-12, elementwise_affine=True)\n",
              "              (dropout): Dropout(p=0.1, inplace=False)\n",
              "            )\n",
              "          )\n",
              "          (intermediate): BertIntermediate(\n",
              "            (dense): Linear(in_features=768, out_features=3072, bias=True)\n",
              "          )\n",
              "          (output): BertOutput(\n",
              "            (dense): Linear(in_features=3072, out_features=768, bias=True)\n",
              "            (LayerNorm): LayerNorm((768,), eps=1e-12, elementwise_affine=True)\n",
              "            (dropout): Dropout(p=0.1, inplace=False)\n",
              "          )\n",
              "        )\n",
              "        (7): BertLayer(\n",
              "          (attention): BertAttention(\n",
              "            (self): BertSelfAttention(\n",
              "              (query): Linear(in_features=768, out_features=768, bias=True)\n",
              "              (key): Linear(in_features=768, out_features=768, bias=True)\n",
              "              (value): Linear(in_features=768, out_features=768, bias=True)\n",
              "              (dropout): Dropout(p=0.1, inplace=False)\n",
              "            )\n",
              "            (output): BertSelfOutput(\n",
              "              (dense): Linear(in_features=768, out_features=768, bias=True)\n",
              "              (LayerNorm): LayerNorm((768,), eps=1e-12, elementwise_affine=True)\n",
              "              (dropout): Dropout(p=0.1, inplace=False)\n",
              "            )\n",
              "          )\n",
              "          (intermediate): BertIntermediate(\n",
              "            (dense): Linear(in_features=768, out_features=3072, bias=True)\n",
              "          )\n",
              "          (output): BertOutput(\n",
              "            (dense): Linear(in_features=3072, out_features=768, bias=True)\n",
              "            (LayerNorm): LayerNorm((768,), eps=1e-12, elementwise_affine=True)\n",
              "            (dropout): Dropout(p=0.1, inplace=False)\n",
              "          )\n",
              "        )\n",
              "        (8): BertLayer(\n",
              "          (attention): BertAttention(\n",
              "            (self): BertSelfAttention(\n",
              "              (query): Linear(in_features=768, out_features=768, bias=True)\n",
              "              (key): Linear(in_features=768, out_features=768, bias=True)\n",
              "              (value): Linear(in_features=768, out_features=768, bias=True)\n",
              "              (dropout): Dropout(p=0.1, inplace=False)\n",
              "            )\n",
              "            (output): BertSelfOutput(\n",
              "              (dense): Linear(in_features=768, out_features=768, bias=True)\n",
              "              (LayerNorm): LayerNorm((768,), eps=1e-12, elementwise_affine=True)\n",
              "              (dropout): Dropout(p=0.1, inplace=False)\n",
              "            )\n",
              "          )\n",
              "          (intermediate): BertIntermediate(\n",
              "            (dense): Linear(in_features=768, out_features=3072, bias=True)\n",
              "          )\n",
              "          (output): BertOutput(\n",
              "            (dense): Linear(in_features=3072, out_features=768, bias=True)\n",
              "            (LayerNorm): LayerNorm((768,), eps=1e-12, elementwise_affine=True)\n",
              "            (dropout): Dropout(p=0.1, inplace=False)\n",
              "          )\n",
              "        )\n",
              "        (9): BertLayer(\n",
              "          (attention): BertAttention(\n",
              "            (self): BertSelfAttention(\n",
              "              (query): Linear(in_features=768, out_features=768, bias=True)\n",
              "              (key): Linear(in_features=768, out_features=768, bias=True)\n",
              "              (value): Linear(in_features=768, out_features=768, bias=True)\n",
              "              (dropout): Dropout(p=0.1, inplace=False)\n",
              "            )\n",
              "            (output): BertSelfOutput(\n",
              "              (dense): Linear(in_features=768, out_features=768, bias=True)\n",
              "              (LayerNorm): LayerNorm((768,), eps=1e-12, elementwise_affine=True)\n",
              "              (dropout): Dropout(p=0.1, inplace=False)\n",
              "            )\n",
              "          )\n",
              "          (intermediate): BertIntermediate(\n",
              "            (dense): Linear(in_features=768, out_features=3072, bias=True)\n",
              "          )\n",
              "          (output): BertOutput(\n",
              "            (dense): Linear(in_features=3072, out_features=768, bias=True)\n",
              "            (LayerNorm): LayerNorm((768,), eps=1e-12, elementwise_affine=True)\n",
              "            (dropout): Dropout(p=0.1, inplace=False)\n",
              "          )\n",
              "        )\n",
              "        (10): BertLayer(\n",
              "          (attention): BertAttention(\n",
              "            (self): BertSelfAttention(\n",
              "              (query): Linear(in_features=768, out_features=768, bias=True)\n",
              "              (key): Linear(in_features=768, out_features=768, bias=True)\n",
              "              (value): Linear(in_features=768, out_features=768, bias=True)\n",
              "              (dropout): Dropout(p=0.1, inplace=False)\n",
              "            )\n",
              "            (output): BertSelfOutput(\n",
              "              (dense): Linear(in_features=768, out_features=768, bias=True)\n",
              "              (LayerNorm): LayerNorm((768,), eps=1e-12, elementwise_affine=True)\n",
              "              (dropout): Dropout(p=0.1, inplace=False)\n",
              "            )\n",
              "          )\n",
              "          (intermediate): BertIntermediate(\n",
              "            (dense): Linear(in_features=768, out_features=3072, bias=True)\n",
              "          )\n",
              "          (output): BertOutput(\n",
              "            (dense): Linear(in_features=3072, out_features=768, bias=True)\n",
              "            (LayerNorm): LayerNorm((768,), eps=1e-12, elementwise_affine=True)\n",
              "            (dropout): Dropout(p=0.1, inplace=False)\n",
              "          )\n",
              "        )\n",
              "        (11): BertLayer(\n",
              "          (attention): BertAttention(\n",
              "            (self): BertSelfAttention(\n",
              "              (query): Linear(in_features=768, out_features=768, bias=True)\n",
              "              (key): Linear(in_features=768, out_features=768, bias=True)\n",
              "              (value): Linear(in_features=768, out_features=768, bias=True)\n",
              "              (dropout): Dropout(p=0.1, inplace=False)\n",
              "            )\n",
              "            (output): BertSelfOutput(\n",
              "              (dense): Linear(in_features=768, out_features=768, bias=True)\n",
              "              (LayerNorm): LayerNorm((768,), eps=1e-12, elementwise_affine=True)\n",
              "              (dropout): Dropout(p=0.1, inplace=False)\n",
              "            )\n",
              "          )\n",
              "          (intermediate): BertIntermediate(\n",
              "            (dense): Linear(in_features=768, out_features=3072, bias=True)\n",
              "          )\n",
              "          (output): BertOutput(\n",
              "            (dense): Linear(in_features=3072, out_features=768, bias=True)\n",
              "            (LayerNorm): LayerNorm((768,), eps=1e-12, elementwise_affine=True)\n",
              "            (dropout): Dropout(p=0.1, inplace=False)\n",
              "          )\n",
              "        )\n",
              "      )\n",
              "    )\n",
              "    (pooler): BertPooler(\n",
              "      (dense): Linear(in_features=768, out_features=768, bias=True)\n",
              "      (activation): Tanh()\n",
              "    )\n",
              "  )\n",
              "  (dropout): Dropout(p=0.1, inplace=False)\n",
              "  (classifier): Linear(in_features=768, out_features=2, bias=True)\n",
              ")"
            ]
          },
          "metadata": {
            "tags": []
          },
          "execution_count": 66
        }
      ]
    },
    {
      "cell_type": "markdown",
      "metadata": {
        "id": "U7SzL1IBe1Dm"
      },
      "source": [
        "<br>\n",
        "<br>\n",
        "\n",
        "# **새로운 문장 테스트**"
      ]
    },
    {
      "cell_type": "code",
      "metadata": {
        "id": "Tb4v_VfEfGQB"
      },
      "source": [
        "# 입력 데이터 변환\n",
        "def convert_input_data(sentences):\n",
        "\n",
        "    # BERT의 토크나이저로 문장을 토큰으로 분리\n",
        "    tokenized_texts = [tokenizer.tokenize(sent) for sent in sentences]\n",
        "\n",
        "    # 입력 토큰의 최대 시퀀스 길이\n",
        "    MAX_LEN = 128\n",
        "\n",
        "    # 토큰을 숫자 인덱스로 변환\n",
        "    input_ids = [tokenizer.convert_tokens_to_ids(x) for x in tokenized_texts]\n",
        "    \n",
        "    # 문장을 MAX_LEN 길이에 맞게 자르고, 모자란 부분을 패딩 0으로 채움\n",
        "    input_ids = pad_sequences(input_ids, maxlen=MAX_LEN, dtype=\"long\", truncating=\"post\", padding=\"post\")\n",
        "\n",
        "    # 어텐션 마스크 초기화\n",
        "    attention_masks = []\n",
        "\n",
        "    # 어텐션 마스크를 패딩이 아니면 1, 패딩이면 0으로 설정\n",
        "    # 패딩 부분은 BERT 모델에서 어텐션을 수행하지 않아 속도 향상\n",
        "    for seq in input_ids:\n",
        "        seq_mask = [float(i>0) for i in seq]\n",
        "        attention_masks.append(seq_mask)\n",
        "\n",
        "    # 데이터를 파이토치의 텐서로 변환\n",
        "    inputs = torch.tensor(input_ids)\n",
        "    masks = torch.tensor(attention_masks)\n",
        "\n",
        "    return inputs, masks"
      ],
      "execution_count": 63,
      "outputs": []
    },
    {
      "cell_type": "code",
      "metadata": {
        "id": "C12NL1Fvgv4E"
      },
      "source": [
        "# 문장 테스트\n",
        "def test_sentences(sentences):\n",
        "\n",
        "    # 평가모드로 변경\n",
        "    model.eval()\n",
        "\n",
        "    # 문장을 입력 데이터로 변환\n",
        "    inputs, masks = convert_input_data(sentences)\n",
        "\n",
        "    # 데이터를 GPU에 넣음\n",
        "    b_input_ids = inputs.to(device)\n",
        "    b_input_mask = masks.to(device)\n",
        "            \n",
        "    # 그래디언트 계산 안함\n",
        "    with torch.no_grad():     \n",
        "        # Forward 수행\n",
        "        outputs = model(b_input_ids, \n",
        "                        token_type_ids=None, \n",
        "                        attention_mask=b_input_mask)\n",
        "\n",
        "    # 로스 구함\n",
        "    logits = outputs[0]\n",
        "\n",
        "    # CPU로 데이터 이동\n",
        "    logits = logits.detach().cpu().numpy()\n",
        "\n",
        "    return logits"
      ],
      "execution_count": 64,
      "outputs": []
    },
    {
      "cell_type": "code",
      "metadata": {
        "id": "ZQezr0tljJlM",
        "outputId": "611be51b-6602-4510-d36c-bb2db6d1bea9",
        "colab": {
          "base_uri": "https://localhost:8080/"
        }
      },
      "source": [
        "logits = test_sentences(['연기는 별로지만 재미 하나는 끝내줌!'])\n",
        "\n",
        "print(logits)\n",
        "print(np.argmax(logits))"
      ],
      "execution_count": 67,
      "outputs": [
        {
          "output_type": "stream",
          "text": [
            "[[-1.9073821  1.6807065]]\n",
            "1\n"
          ],
          "name": "stdout"
        }
      ]
    },
    {
      "cell_type": "code",
      "metadata": {
        "id": "-9MQ0SK0jofN",
        "outputId": "b76e3c0a-dac8-4a72-8244-c44dd558054d",
        "colab": {
          "base_uri": "https://localhost:8080/"
        }
      },
      "source": [
        "logits = test_sentences(['주연배우가 아깝다. 총체적 난국...'])\n",
        "\n",
        "print(logits)\n",
        "print(np.argmax(logits))"
      ],
      "execution_count": 68,
      "outputs": [
        {
          "output_type": "stream",
          "text": [
            "[[ 3.2836697 -3.1364825]]\n",
            "0\n"
          ],
          "name": "stdout"
        }
      ]
    },
    {
      "cell_type": "code",
      "metadata": {
        "id": "x2siugrLELHI",
        "outputId": "ee603c8a-ff8d-47df-aafd-8e8338a5b1cd",
        "colab": {
          "base_uri": "https://localhost:8080/"
        }
      },
      "source": [
        "logits = test_sentences(['너무너무 재밌었다'])\n",
        "\n",
        "print(logits)\n",
        "print(np.argmax(logits))"
      ],
      "execution_count": 69,
      "outputs": [
        {
          "output_type": "stream",
          "text": [
            "[[-2.2721465  2.096554 ]]\n",
            "1\n"
          ],
          "name": "stdout"
        }
      ]
    },
    {
      "cell_type": "code",
      "metadata": {
        "id": "wBdb-nHSDzyJ",
        "outputId": "a9f08fd8-3a7a-4708-8d78-3dcde8cd2238",
        "colab": {
          "base_uri": "https://localhost:8080/"
        }
      },
      "source": [
        "logits = test_sentences(['멍청이. 진짜 개별로'])\n",
        "\n",
        "print(logits)\n",
        "print(np.argmax(logits))"
      ],
      "execution_count": 70,
      "outputs": [
        {
          "output_type": "stream",
          "text": [
            "[[ 3.2771037 -3.0882301]]\n",
            "0\n"
          ],
          "name": "stdout"
        }
      ]
    },
    {
      "cell_type": "code",
      "metadata": {
        "id": "xrestYVMD375",
        "outputId": "da3b0df5-bd03-4de1-e2be-4ee903eb7e24",
        "colab": {
          "base_uri": "https://localhost:8080/"
        }
      },
      "source": [
        "logits = test_sentences(['영화 재밌네요'])\n",
        "\n",
        "print(logits)\n",
        "print(np.argmax(logits))"
      ],
      "execution_count": 71,
      "outputs": [
        {
          "output_type": "stream",
          "text": [
            "[[-0.58973676  0.49156138]]\n",
            "1\n"
          ],
          "name": "stdout"
        }
      ]
    },
    {
      "cell_type": "code",
      "metadata": {
        "id": "hXhWejF_EFDX",
        "outputId": "4ac99157-f23e-4289-f090-54f6ce413609",
        "colab": {
          "base_uri": "https://localhost:8080/"
        }
      },
      "source": [
        "logits = test_sentences(['시간이 아깝지 않은 영화'])\n",
        "\n",
        "print(logits)\n",
        "print(np.argmax(logits))"
      ],
      "execution_count": 72,
      "outputs": [
        {
          "output_type": "stream",
          "text": [
            "[[-1.4810387  1.1391456]]\n",
            "1\n"
          ],
          "name": "stdout"
        }
      ]
    },
    {
      "cell_type": "code",
      "metadata": {
        "id": "RUHJKBqyNQ51"
      },
      "source": [
        ""
      ],
      "execution_count": null,
      "outputs": []
    }
  ]
}
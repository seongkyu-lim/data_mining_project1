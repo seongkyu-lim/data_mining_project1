{
 "cells": [
  {
   "cell_type": "code",
   "execution_count": 3,
   "metadata": {},
   "outputs": [],
   "source": [
    "import pandas as pd\n",
    "import numpy as np\n",
    "import matplotlib.pyplot as plt"
   ]
  },
  {
   "cell_type": "code",
   "execution_count": 17,
   "metadata": {},
   "outputs": [
    {
     "name": "stdout",
     "output_type": "stream",
     "text": [
      "              일자 지역(시도)   지역(시군구)          검색지명 검색지유형1  검색지유형2      검색지유형3  \\\n",
      "0       20190801     경기  고양시 일산서구      킨텍스제1전시장   생활편의  문화생활시설         전시장   \n",
      "1       20190801     경기  고양시 일산서구      킨텍스제2전시장   생활편의  문화생활시설         전시장   \n",
      "2       20190801     경기  고양시 일산서구          원마운트     쇼핑   대형유통점        쇼핑센터   \n",
      "3       20190801     경기  고양시 일산서구     아쿠아플라넷일산점  여행/레저    관광명소         수족관   \n",
      "4       20190801     경기  고양시 일산서구  이마트트레이더스킨텍스점     쇼핑   대형유통점         할인점   \n",
      "...          ...    ...       ...           ...    ...     ...         ...   \n",
      "232492  20190830     충북       옥천군        뿌리깊은나무   생활편의     음식점          치킨   \n",
      "232493  20190830     충북       옥천군        뿌리깊은나무   생활편의     음식점       전문음식점   \n",
      "232494  20190830     충북       옥천군        청산면사무소   공공편의    행정기관  동/읍/면/리사무소   \n",
      "232495  20190830     충북       옥천군           상춘정  여행/레저    관광명소          정자   \n",
      "232496  20190830     충북       옥천군      옥천농협장례식장   생활편의    가정의례       장례예식장   \n",
      "\n",
      "        검색지랭킹(시군구내)  \n",
      "0                 1  \n",
      "1                 2  \n",
      "2                 3  \n",
      "3                 4  \n",
      "4                 5  \n",
      "...             ...  \n",
      "232492           26  \n",
      "232493           27  \n",
      "232494           28  \n",
      "232495           29  \n",
      "232496           30  \n",
      "\n",
      "[232497 rows x 8 columns]\n",
      "               일자 지역(시도)   지역(시군구)              검색지명 검색지유형1  검색지유형2    검색지유형3  \\\n",
      "0        20190801     경기  고양시 일산서구          킨텍스제1전시장   생활편의  문화생활시설       전시장   \n",
      "1        20190801     경기  고양시 일산서구          킨텍스제2전시장   생활편의  문화생활시설       전시장   \n",
      "2        20190801     경기  고양시 일산서구              원마운트     쇼핑   대형유통점      쇼핑센터   \n",
      "3        20190801     경기  고양시 일산서구         아쿠아플라넷일산점  여행/레저    관광명소       수족관   \n",
      "4        20190801     경기  고양시 일산서구      이마트트레이더스킨텍스점     쇼핑   대형유통점       할인점   \n",
      "...           ...    ...       ...               ...    ...     ...       ...   \n",
      "2969975  20200809     충북       증평군  블랙스톤벨포레리조트익스트림루지  여행/레저  레저/스포츠  레저/스포츠기타   \n",
      "2969976  20200809     충북       증평군  증평송산LH천년나무3단지아파트  건물/시설    주요건물    아파트건설사   \n",
      "2969977  20200809     충북       증평군       증평파라디아2차아파트  건물/시설    주요건물     아파트단지   \n",
      "2969978  20200809     충북       증평군            좌구산천문대  여행/레저    관광명소    관광명소기타   \n",
      "2969979  20200809     충북       증평군     하나로마트증평농협중앙지점     쇼핑   대형유통점      슈퍼마켓   \n",
      "\n",
      "         검색지랭킹(시군구내)  \n",
      "0                  1  \n",
      "1                  2  \n",
      "2                  3  \n",
      "3                  4  \n",
      "4                  5  \n",
      "...              ...  \n",
      "2969975           26  \n",
      "2969976           27  \n",
      "2969977           28  \n",
      "2969978           29  \n",
      "2969979           30  \n",
      "\n",
      "[2969980 rows x 8 columns]\n"
     ]
    }
   ],
   "source": [
    "df1 = pd.read_csv('/Users/limseongkyu/Documents/4-1/종합설계프로젝트-조형민/Tmap/Tmap_1908.csv')\n",
    "df2 = pd.read_csv('/Users/limseongkyu/Documents/4-1/종합설계프로젝트-조형민/Tmap/Tmap_1909.csv')\n",
    "df3 = pd.read_csv('/Users/limseongkyu/Documents/4-1/종합설계프로젝트-조형민/Tmap/Tmap_1910.csv')\n",
    "df4 = pd.read_csv('/Users/limseongkyu/Documents/4-1/종합설계프로젝트-조형민/Tmap/Tmap_1911.csv')\n",
    "df5 = pd.read_csv('/Users/limseongkyu/Documents/4-1/종합설계프로젝트-조형민/Tmap/Tmap_1912.csv')\n",
    "df6 = pd.read_csv('/Users/limseongkyu/Documents/4-1/종합설계프로젝트-조형민/Tmap/Tmap_2001.csv')\n",
    "df7 = pd.read_csv('/Users/limseongkyu/Documents/4-1/종합설계프로젝트-조형민/Tmap/Tmap_2002.csv')\n",
    "df8 = pd.read_csv('/Users/limseongkyu/Documents/4-1/종합설계프로젝트-조형민/Tmap/Tmap_2003.csv')\n",
    "df9 = pd.read_csv('/Users/limseongkyu/Documents/4-1/종합설계프로젝트-조형민/Tmap/Tmap_2004.csv')\n",
    "df10 = pd.read_csv('/Users/limseongkyu/Documents/4-1/종합설계프로젝트-조형민/Tmap/Tmap_2005.csv')\n",
    "df11 = pd.read_csv('/Users/limseongkyu/Documents/4-1/종합설계프로젝트-조형민/Tmap/Tmap_2006.csv')\n",
    "df12 = pd.read_csv('/Users/limseongkyu/Documents/4-1/종합설계프로젝트-조형민/Tmap/Tmap_2007.csv')\n",
    "df13 = pd.read_csv('/Users/limseongkyu/Documents/4-1/종합설계프로젝트-조형민/Tmap/Tmap_2008.csv')\n",
    "\n",
    "\n",
    "df = pd.concat([df1,df2,df3,df4,df5,df6,df7,df8,df9,df10,df11,df12,df13], ignore_index=True)\n",
    "\n",
    "print(df)\n"
   ]
  },
  {
   "cell_type": "code",
   "execution_count": 18,
   "metadata": {},
   "outputs": [
    {
     "name": "stdout",
     "output_type": "stream",
     "text": [
      "RangeIndex(start=0, stop=2969980, step=1)\n"
     ]
    }
   ],
   "source": [
    "print(df.index)"
   ]
  },
  {
   "cell_type": "code",
   "execution_count": null,
   "metadata": {},
   "outputs": [],
   "source": []
  }
 ],
 "metadata": {
  "kernelspec": {
   "display_name": "project1",
   "language": "python",
   "name": "project1"
  },
  "language_info": {
   "codemirror_mode": {
    "name": "ipython",
    "version": 3
   },
   "file_extension": ".py",
   "mimetype": "text/x-python",
   "name": "python",
   "nbconvert_exporter": "python",
   "pygments_lexer": "ipython3",
   "version": "3.7.6"
  }
 },
 "nbformat": 4,
 "nbformat_minor": 4
}

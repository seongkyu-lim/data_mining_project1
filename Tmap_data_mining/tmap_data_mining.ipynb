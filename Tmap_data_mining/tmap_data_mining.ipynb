{
 "cells": [
  {
   "cell_type": "markdown",
   "metadata": {},
   "source": [
    "## Tmap 분석"
   ]
  },
  {
   "cell_type": "markdown",
   "metadata": {},
   "source": [
    ","
   ]
  },
  {
   "cell_type": "markdown",
   "metadata": {},
   "source": [
    "#### tmap data 2019-08 부터 2020-08 까지 하나로 연결, 시간순으로 정렬"
   ]
  },
  {
   "cell_type": "markdown",
   "metadata": {},
   "source": [
    "----------------------------------------------------------------------"
   ]
  },
  {
   "cell_type": "code",
   "execution_count": 109,
   "metadata": {},
   "outputs": [],
   "source": [
    "import pandas as pd\n",
    "import numpy as np\n",
    "import matplotlib.pyplot as plt"
   ]
  },
  {
   "cell_type": "code",
   "execution_count": 110,
   "metadata": {},
   "outputs": [],
   "source": [
    "df1 = pd.read_csv('/Users/limseongkyu/Documents/4-1/종합설계프로젝트-조형민/Tmap/Tmap_1908.csv')\n",
    "df2 = pd.read_csv('/Users/limseongkyu/Documents/4-1/종합설계프로젝트-조형민/Tmap/Tmap_1909.csv')\n",
    "df3 = pd.read_csv('/Users/limseongkyu/Documents/4-1/종합설계프로젝트-조형민/Tmap/Tmap_1910.csv')\n",
    "df4 = pd.read_csv('/Users/limseongkyu/Documents/4-1/종합설계프로젝트-조형민/Tmap/Tmap_1911.csv')\n",
    "df5 = pd.read_csv('/Users/limseongkyu/Documents/4-1/종합설계프로젝트-조형민/Tmap/Tmap_1912.csv')\n",
    "df6 = pd.read_csv('/Users/limseongkyu/Documents/4-1/종합설계프로젝트-조형민/Tmap/Tmap_2001.csv')\n",
    "df7 = pd.read_csv('/Users/limseongkyu/Documents/4-1/종합설계프로젝트-조형민/Tmap/Tmap_2002.csv')\n",
    "df8 = pd.read_csv('/Users/limseongkyu/Documents/4-1/종합설계프로젝트-조형민/Tmap/Tmap_2003.csv')\n",
    "df9 = pd.read_csv('/Users/limseongkyu/Documents/4-1/종합설계프로젝트-조형민/Tmap/Tmap_2004.csv')\n",
    "df10 = pd.read_csv('/Users/limseongkyu/Documents/4-1/종합설계프로젝트-조형민/Tmap/Tmap_2005.csv')\n",
    "df11 = pd.read_csv('/Users/limseongkyu/Documents/4-1/종합설계프로젝트-조형민/Tmap/Tmap_2006.csv')\n",
    "df12 = pd.read_csv('/Users/limseongkyu/Documents/4-1/종합설계프로젝트-조형민/Tmap/Tmap_2007.csv')\n",
    "df13 = pd.read_csv('/Users/limseongkyu/Documents/4-1/종합설계프로젝트-조형민/Tmap/Tmap_2008.csv')\n",
    "\n",
    "\n",
    "df = pd.concat([df1,df2,df3,df4,df5,df6,df7,df8,df9,df10,df11,df12,df13], ignore_index=True)\n"
   ]
  },
  {
   "cell_type": "code",
   "execution_count": 111,
   "metadata": {
    "scrolled": true
   },
   "outputs": [
    {
     "name": "stdout",
     "output_type": "stream",
     "text": [
      "RangeIndex(start=0, stop=2969980, step=1)\n"
     ]
    }
   ],
   "source": [
    "print(df.index)"
   ]
  },
  {
   "cell_type": "code",
   "execution_count": 112,
   "metadata": {
    "scrolled": true
   },
   "outputs": [
    {
     "name": "stdout",
     "output_type": "stream",
     "text": [
      "<class 'pandas.core.frame.DataFrame'>\n",
      "RangeIndex: 2969980 entries, 0 to 2969979\n",
      "Data columns (total 8 columns):\n",
      " #   Column       Dtype \n",
      "---  ------       ----- \n",
      " 0   일자           int64 \n",
      " 1   지역(시도)       object\n",
      " 2   지역(시군구)      object\n",
      " 3   검색지명         object\n",
      " 4   검색지유형1       object\n",
      " 5   검색지유형2       object\n",
      " 6   검색지유형3       object\n",
      " 7   검색지랭킹(시군구내)  int64 \n",
      "dtypes: int64(2), object(6)\n",
      "memory usage: 181.3+ MB\n"
     ]
    }
   ],
   "source": [
    "df.head()\n",
    "\n",
    "df.info()"
   ]
  },
  {
   "cell_type": "code",
   "execution_count": 113,
   "metadata": {},
   "outputs": [],
   "source": [
    "df['일자'] = df['일자'].astype(str)"
   ]
  },
  {
   "cell_type": "markdown",
   "metadata": {},
   "source": [
    "일자 컬럼 형변환 ( 문자열로 )"
   ]
  },
  {
   "cell_type": "code",
   "execution_count": 114,
   "metadata": {},
   "outputs": [],
   "source": [
    "df['date']=pd.to_datetime(df['일자'])"
   ]
  },
  {
   "cell_type": "markdown",
   "metadata": {},
   "source": [
    "datetime으로 일자 컬럼 date 컬럼으로 변환"
   ]
  },
  {
   "cell_type": "code",
   "execution_count": 115,
   "metadata": {},
   "outputs": [],
   "source": [
    "df.drop('일자', axis = 1, inplace=True)\n",
    "df.set_index('date', inplace=True)"
   ]
  },
  {
   "cell_type": "markdown",
   "metadata": {},
   "source": [
    "일자 컬럼 삭제하고 date 컬럼으로 대체"
   ]
  },
  {
   "cell_type": "code",
   "execution_count": null,
   "metadata": {},
   "outputs": [],
   "source": [
    "df = df.sort_index()"
   ]
  },
  {
   "cell_type": "markdown",
   "metadata": {},
   "source": [
    "시간순으로 정렬 "
   ]
  },
  {
   "cell_type": "code",
   "execution_count": 120,
   "metadata": {
    "scrolled": true
   },
   "outputs": [
    {
     "name": "stdout",
     "output_type": "stream",
     "text": [
      "           지역(시도)   지역(시군구)           검색지명 검색지유형1  검색지유형2      검색지유형3  \\\n",
      "date                                                                    \n",
      "2019-08-01     경기  고양시 일산서구       킨텍스제1전시장   생활편의  문화생활시설         전시장   \n",
      "2019-08-01     전북       완주군           상관IC   교통편의    교통시설     고속도로 IC   \n",
      "2019-08-01     전북       완주군            송광사   생활편의      종교           절   \n",
      "2019-08-01     전북       완주군          상관편백숲  여행/레저  레저/스포츠        산림욕장   \n",
      "2019-08-01     전북       완주군           완주IC   교통편의    교통시설     고속도로 IC   \n",
      "...           ...       ...            ...    ...     ...         ...   \n",
      "2020-08-31     경기   용인시 처인구           지산CC  여행/레저  레저/스포츠         골프장   \n",
      "2020-08-31     경기   용인시 처인구         아시아나CC  여행/레저  레저/스포츠         골프장   \n",
      "2020-08-31     경기   용인시 처인구  양우내안애에듀퍼스트아파트  건물/시설    주요건물       아파트단지   \n",
      "2020-08-31     경남       거창군      가조면행정복지센터   공공편의    행정기관  동/읍/면/리사무소   \n",
      "2020-08-31     충북   청주시 청원구  청주율량2LH9단지아파트  건물/시설    주요건물      아파트건설사   \n",
      "\n",
      "            검색지랭킹(시군구내)  \n",
      "date                     \n",
      "2019-08-01            1  \n",
      "2019-08-01           16  \n",
      "2019-08-01           17  \n",
      "2019-08-01           18  \n",
      "2019-08-01           19  \n",
      "...                 ...  \n",
      "2020-08-31           23  \n",
      "2020-08-31           24  \n",
      "2020-08-31           25  \n",
      "2020-08-31           27  \n",
      "2020-08-31           29  \n",
      "\n",
      "[2969980 rows x 7 columns]\n"
     ]
    },
    {
     "data": {
      "text/html": [
       "<div>\n",
       "<style scoped>\n",
       "    .dataframe tbody tr th:only-of-type {\n",
       "        vertical-align: middle;\n",
       "    }\n",
       "\n",
       "    .dataframe tbody tr th {\n",
       "        vertical-align: top;\n",
       "    }\n",
       "\n",
       "    .dataframe thead th {\n",
       "        text-align: right;\n",
       "    }\n",
       "</style>\n",
       "<table border=\"1\" class=\"dataframe\">\n",
       "  <thead>\n",
       "    <tr style=\"text-align: right;\">\n",
       "      <th></th>\n",
       "      <th>지역(시도)</th>\n",
       "      <th>지역(시군구)</th>\n",
       "      <th>검색지명</th>\n",
       "      <th>검색지유형1</th>\n",
       "      <th>검색지유형2</th>\n",
       "      <th>검색지유형3</th>\n",
       "      <th>검색지랭킹(시군구내)</th>\n",
       "    </tr>\n",
       "    <tr>\n",
       "      <th>date</th>\n",
       "      <th></th>\n",
       "      <th></th>\n",
       "      <th></th>\n",
       "      <th></th>\n",
       "      <th></th>\n",
       "      <th></th>\n",
       "      <th></th>\n",
       "    </tr>\n",
       "  </thead>\n",
       "  <tbody>\n",
       "    <tr>\n",
       "      <th>2019-08-01</th>\n",
       "      <td>경기</td>\n",
       "      <td>고양시 일산서구</td>\n",
       "      <td>킨텍스제1전시장</td>\n",
       "      <td>생활편의</td>\n",
       "      <td>문화생활시설</td>\n",
       "      <td>전시장</td>\n",
       "      <td>1</td>\n",
       "    </tr>\n",
       "    <tr>\n",
       "      <th>2019-08-01</th>\n",
       "      <td>전북</td>\n",
       "      <td>완주군</td>\n",
       "      <td>상관IC</td>\n",
       "      <td>교통편의</td>\n",
       "      <td>교통시설</td>\n",
       "      <td>고속도로 IC</td>\n",
       "      <td>16</td>\n",
       "    </tr>\n",
       "    <tr>\n",
       "      <th>2019-08-01</th>\n",
       "      <td>전북</td>\n",
       "      <td>완주군</td>\n",
       "      <td>송광사</td>\n",
       "      <td>생활편의</td>\n",
       "      <td>종교</td>\n",
       "      <td>절</td>\n",
       "      <td>17</td>\n",
       "    </tr>\n",
       "    <tr>\n",
       "      <th>2019-08-01</th>\n",
       "      <td>전북</td>\n",
       "      <td>완주군</td>\n",
       "      <td>상관편백숲</td>\n",
       "      <td>여행/레저</td>\n",
       "      <td>레저/스포츠</td>\n",
       "      <td>산림욕장</td>\n",
       "      <td>18</td>\n",
       "    </tr>\n",
       "    <tr>\n",
       "      <th>2019-08-01</th>\n",
       "      <td>전북</td>\n",
       "      <td>완주군</td>\n",
       "      <td>완주IC</td>\n",
       "      <td>교통편의</td>\n",
       "      <td>교통시설</td>\n",
       "      <td>고속도로 IC</td>\n",
       "      <td>19</td>\n",
       "    </tr>\n",
       "  </tbody>\n",
       "</table>\n",
       "</div>"
      ],
      "text/plain": [
       "           지역(시도)   지역(시군구)      검색지명 검색지유형1  검색지유형2   검색지유형3  검색지랭킹(시군구내)\n",
       "date                                                                      \n",
       "2019-08-01     경기  고양시 일산서구  킨텍스제1전시장   생활편의  문화생활시설      전시장            1\n",
       "2019-08-01     전북       완주군      상관IC   교통편의    교통시설  고속도로 IC           16\n",
       "2019-08-01     전북       완주군       송광사   생활편의      종교        절           17\n",
       "2019-08-01     전북       완주군     상관편백숲  여행/레저  레저/스포츠     산림욕장           18\n",
       "2019-08-01     전북       완주군      완주IC   교통편의    교통시설  고속도로 IC           19"
      ]
     },
     "execution_count": 120,
     "metadata": {},
     "output_type": "execute_result"
    }
   ],
   "source": [
    "print(df)\n",
    "df.head()"
   ]
  },
  {
   "cell_type": "markdown",
   "metadata": {},
   "source": [
    "----------------------------------------------------------------------"
   ]
  },
  {
   "cell_type": "markdown",
   "metadata": {},
   "source": [
    "#### 검색지 유형 2 종류 파악"
   ]
  },
  {
   "cell_type": "markdown",
   "metadata": {},
   "source": [
    "----------------------------------------------------------------------"
   ]
  },
  {
   "cell_type": "code",
   "execution_count": 127,
   "metadata": {
    "scrolled": false
   },
   "outputs": [
    {
     "data": {
      "text/plain": [
       "주요건물       760190\n",
       "교통시설       355605\n",
       "관광명소       292725\n",
       "대형유통점      218872\n",
       "음식점        205320\n",
       "            ...  \n",
       "기업/단체기타         5\n",
       "법무관련            5\n",
       "생활편의기타          4\n",
       "중고품             1\n",
       "의료편의기타          1\n",
       "Name: 검색지유형2, Length: 67, dtype: int64"
      ]
     },
     "execution_count": 127,
     "metadata": {},
     "output_type": "execute_result"
    }
   ],
   "source": [
    "df['검색지유형2'].value_counts()\n"
   ]
  },
  {
   "cell_type": "code",
   "execution_count": 126,
   "metadata": {},
   "outputs": [
    {
     "data": {
      "text/plain": [
       "주요건물       2.559580e-01\n",
       "교통시설       1.197331e-01\n",
       "관광명소       9.856127e-02\n",
       "대형유통점      7.369477e-02\n",
       "음식점        6.913178e-02\n",
       "               ...     \n",
       "기업/단체기타    1.683513e-06\n",
       "법무관련       1.683513e-06\n",
       "생활편의기타     1.346810e-06\n",
       "중고품        3.367026e-07\n",
       "의료편의기타     3.367026e-07\n",
       "Name: 검색지유형2, Length: 67, dtype: float64"
      ]
     },
     "execution_count": 126,
     "metadata": {},
     "output_type": "execute_result"
    }
   ],
   "source": [
    "df['검색지유형2'].value_counts(normalize=True)"
   ]
  },
  {
   "cell_type": "markdown",
   "metadata": {},
   "source": [
    "퍼센테이지로 표현이 안됨?"
   ]
  },
  {
   "cell_type": "code",
   "execution_count": 129,
   "metadata": {},
   "outputs": [
    {
     "name": "stdout",
     "output_type": "stream",
     "text": [
      "date\n",
      "2019-08-01    문화생활시설\n",
      "2019-08-01      교통시설\n",
      "2019-08-01        종교\n",
      "2019-08-01    레저/스포츠\n",
      "2019-08-01      교통시설\n",
      "               ...  \n",
      "2020-08-31    레저/스포츠\n",
      "2020-08-31    레저/스포츠\n",
      "2020-08-31      주요건물\n",
      "2020-08-31      행정기관\n",
      "2020-08-31      주요건물\n",
      "Name: 검색지유형2, Length: 2969980, dtype: object\n"
     ]
    }
   ],
   "source": [
    "print(df['검색지유형2'])"
   ]
  },
  {
   "cell_type": "markdown",
   "metadata": {},
   "source": [
    "----------------------------------------------------------------------"
   ]
  },
  {
   "cell_type": "markdown",
   "metadata": {},
   "source": [
    "#### 외부활동 tmap 검색 데이터 시계열 분석"
   ]
  },
  {
   "cell_type": "markdown",
   "metadata": {},
   "source": [
    "----------------------------------------------------------------------"
   ]
  },
  {
   "cell_type": "code",
   "execution_count": null,
   "metadata": {},
   "outputs": [],
   "source": []
  }
 ],
 "metadata": {
  "kernelspec": {
   "display_name": "project1",
   "language": "python",
   "name": "project1"
  },
  "language_info": {
   "codemirror_mode": {
    "name": "ipython",
    "version": 3
   },
   "file_extension": ".py",
   "mimetype": "text/x-python",
   "name": "python",
   "nbconvert_exporter": "python",
   "pygments_lexer": "ipython3",
   "version": "3.7.6"
  }
 },
 "nbformat": 4,
 "nbformat_minor": 4
}

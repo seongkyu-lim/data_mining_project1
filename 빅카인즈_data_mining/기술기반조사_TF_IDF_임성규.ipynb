{
  "nbformat": 4,
  "nbformat_minor": 0,
  "metadata": {
    "colab": {
      "name": "기술기반조사_TF-IDF_임성규.ipynb",
      "provenance": []
    },
    "kernelspec": {
      "name": "python3",
      "display_name": "Python 3"
    },
    "accelerator": "GPU"
  },
  "cells": [
    {
      "cell_type": "code",
      "metadata": {
        "id": "7CB90WB_LhjY",
        "outputId": "1d5acebd-aab1-4715-dbd5-577a50e93652",
        "colab": {
          "base_uri": "https://localhost:8080/"
        }
      },
      "source": [
        "from google.colab import drive\n",
        "\n",
        "drive.mount('/content/gdrive')"
      ],
      "execution_count": 5,
      "outputs": [
        {
          "output_type": "stream",
          "text": [
            "Mounted at /content/gdrive\n"
          ],
          "name": "stdout"
        }
      ]
    },
    {
      "cell_type": "code",
      "metadata": {
        "id": "ml0B6RTxPr9s"
      },
      "source": [
        "import pandas as pd\n",
        "import numpy as np\n",
        "\n",
        "import glob\n",
        "import sys\n",
        "\n",
        "import os"
      ],
      "execution_count": 23,
      "outputs": []
    },
    {
      "cell_type": "markdown",
      "metadata": {
        "id": "-aHW5YVZpXjn"
      },
      "source": [
        "-----\n",
        "\n",
        "- pandas 이용하여 빅카인즈 데이터셋 읽어온 후 2020_7월부터 9월, 2019_7월부터9월 개별로 dataframe 구축\n",
        "\n",
        "-----"
      ]
    },
    {
      "cell_type": "code",
      "metadata": {
        "id": "AtKYXr0-M4X_",
        "outputId": "53bc2b88-7f2c-4e0c-a641-fbfe934982b7",
        "colab": {
          "base_uri": "https://localhost:8080/"
        }
      },
      "source": [
        "path = \"/content/gdrive/My Drive/빅카인즈_dataset\"\n",
        "file_list = os.listdir(path)\n",
        "print(file_list)"
      ],
      "execution_count": 24,
      "outputs": [
        {
          "output_type": "stream",
          "text": [
            "['NewsResult_20200921-20200930.xlsx', 'NewsResult_20200811-20200820.xlsx', 'NewsResult_20200911-20200920.xlsx', 'NewsResult_20200711-20200720.xlsx', 'NewsResult_20200701-20200710.xlsx', 'NewsResult_20200801-20200810.xlsx', 'NewsResult_20200721-20200731.xlsx', 'NewsResult_20200821-20200831.xlsx', 'NewsResult_20200901-20200910.xlsx', 'NewsResult_20190921-20190930.xlsx', 'NewsResult_20190901-20190910.xlsx', 'NewsResult_20190711-20190720.xlsx', 'NewsResult_20190701-20190710.xlsx', 'NewsResult_20190801-20190810.xlsx', 'NewsResult_20190811-20190820.xlsx', 'NewsResult_20190911-20190920.xlsx', 'NewsResult_20190821-20190831.xlsx', 'NewsResult_20190721-20190731.xlsx']\n"
          ],
          "name": "stdout"
        }
      ]
    },
    {
      "cell_type": "code",
      "metadata": {
        "id": "cwWyS_AjVLF4",
        "outputId": "03ab3b1e-52ba-4254-cf16-7f49492b00d3",
        "colab": {
          "base_uri": "https://localhost:8080/"
        }
      },
      "source": [
        "df1 = pd.read_excel('/content/gdrive/My Drive/빅카인즈_dataset/NewsResult_20200921-20200930.xlsx').loc[:, ['키워드', '일자', 'URL']]\n",
        "df2 = pd.read_excel('/content/gdrive/My Drive/빅카인즈_dataset/NewsResult_20200911-20200920.xlsx').loc[:, ['키워드', '일자', 'URL']]\n",
        "df3 = pd.read_excel('/content/gdrive/My Drive/빅카인즈_dataset/NewsResult_20200901-20200910.xlsx').loc[:, ['키워드', '일자', 'URL']]\n",
        "df4 = pd.read_excel('/content/gdrive/My Drive/빅카인즈_dataset/NewsResult_20200821-20200831.xlsx').loc[:, ['키워드', '일자', 'URL']]\n",
        "df5 = pd.read_excel('/content/gdrive/My Drive/빅카인즈_dataset/NewsResult_20200811-20200820.xlsx').loc[:, ['키워드', '일자', 'URL']]\n",
        "df6 = pd.read_excel('/content/gdrive/My Drive/빅카인즈_dataset/NewsResult_20200801-20200810.xlsx').loc[:, ['키워드', '일자', 'URL']]\n",
        "df7 = pd.read_excel('/content/gdrive/My Drive/빅카인즈_dataset/NewsResult_20200721-20200731.xlsx').loc[:, ['키워드', '일자', 'URL']]\n",
        "df8 = pd.read_excel('/content/gdrive/My Drive/빅카인즈_dataset/NewsResult_20200711-20200720.xlsx').loc[:, ['키워드', '일자', 'URL']]\n",
        "df9 = pd.read_excel('/content/gdrive/My Drive/빅카인즈_dataset/NewsResult_20200701-20200710.xlsx').loc[:, ['키워드', '일자', 'URL']]\n",
        "\n",
        "df_2020 = pd.concat([df1,df2,df3,df4,df5,df6,df7,df8,df9], ignore_index=True)\n",
        "\n",
        "print(df)"
      ],
      "execution_count": 68,
      "outputs": [
        {
          "output_type": "stream",
          "text": [
            "                                                      키워드  ...                                                URL\n",
            "0       사진,추억,평창,한국사진작가,30일,평창지부,회원전,내달,동계올림픽,KTX,진부역,...  ...   www.kado.net/news/articleView.html?idxno=1042132\n",
            "1       공모대박,빅히트,1주,청약,방법,공모,13만,확정,장외,원대,경쟁률,1천,1억,1주...  ...  https://news.imaeil.com/Economy/20200930121713...\n",
            "2       사람,노릇,찬송,222장,신앙고백,사도신경,본문,로마,말씀,코로나19,방안,사람,노...  ...  http://news.kmib.co.kr/article/view.asp?arcid=...\n",
            "3       이오타,찬송,212장,신앙고백,사도신경,본문,18~19절,마태복음,말씀,예수님,천지...  ...  http://news.kmib.co.kr/article/view.asp?arcid=...\n",
            "4       코레일,적발,추석,특별,수송,첫날,무임승차자,한국철도,코레일,첫날,추석,특별,수송,...  ...  http://www.joongdo.co.kr/web/view.php?key=2020...\n",
            "...                                                   ...  ...                                                ...\n",
            "179995  공부,스페이스,김현정,머니,출연,IQ,남편,교육관,충돌,공부,머니,가족,스페이스,메...  ...  http://star.mk.co.kr/new/view.php?mc=ST&year=2...\n",
            "179996  마트,마스크,소란,결국,직장,해고,미국,감염증,신종,코로나바이러스,코로나19,재확산...  ...  http://biz.heraldcorp.com/view.php?ud=20200709...\n",
            "179997  사랑,재개발,안용준,역대급,차도녀,등장,안용준,대국민,사과,배우,안용준,어머니,사랑...  ...  https://www.hankyung.com/entertainment/article...\n",
            "179998  신한생명,신한금융플러스,자회사,GA,설립,신한생명,자회사,법인,보험,대리점,GA,신...  ...               http://www.etnews.com/20200709000048\n",
            "179999  와이즈유,SNS,개인,브랜딩,강화,전략,세미나,항공관광학,미래사회,변화,퍼스널,브랜...  ...  http://www.busan.com/view/busan/view.php?code=...\n",
            "\n",
            "[180000 rows x 3 columns]\n"
          ],
          "name": "stdout"
        }
      ]
    },
    {
      "cell_type": "code",
      "metadata": {
        "id": "-QNdo-ZBWSnd",
        "outputId": "368df37a-607f-4f68-c9b2-cea651058ac1",
        "colab": {
          "base_uri": "https://localhost:8080/"
        }
      },
      "source": [
        "df10 = pd.read_excel('/content/gdrive/My Drive/빅카인즈_dataset/NewsResult_20190921-20190930.xlsx').loc[:, ['키워드', '일자', 'URL']]\n",
        "df11 = pd.read_excel('/content/gdrive/My Drive/빅카인즈_dataset/NewsResult_20190911-20190920.xlsx').loc[:, ['키워드', '일자', 'URL']]\n",
        "df12 = pd.read_excel('/content/gdrive/My Drive/빅카인즈_dataset/NewsResult_20190901-20190910.xlsx').loc[:, ['키워드', '일자', 'URL']]\n",
        "df13 = pd.read_excel('/content/gdrive/My Drive/빅카인즈_dataset/NewsResult_20190821-20190831.xlsx').loc[:, ['키워드', '일자', 'URL']]\n",
        "df14 = pd.read_excel('/content/gdrive/My Drive/빅카인즈_dataset/NewsResult_20190811-20190820.xlsx').loc[:, ['키워드', '일자', 'URL']]\n",
        "df15 = pd.read_excel('/content/gdrive/My Drive/빅카인즈_dataset/NewsResult_20190801-20190810.xlsx').loc[:, ['키워드', '일자', 'URL']]\n",
        "df16 = pd.read_excel('/content/gdrive/My Drive/빅카인즈_dataset/NewsResult_20190721-20190731.xlsx').loc[:, ['키워드', '일자', 'URL']]\n",
        "df17 = pd.read_excel('/content/gdrive/My Drive/빅카인즈_dataset/NewsResult_20190711-20190720.xlsx').loc[:, ['키워드', '일자', 'URL']]\n",
        "df18 = pd.read_excel('/content/gdrive/My Drive/빅카인즈_dataset/NewsResult_20190701-20190710.xlsx').loc[:, ['키워드', '일자', 'URL']]\n",
        "\n",
        "df_2019 = pd.concat([df1,df2,df3,df4,df5,df6,df7,df8,df9], ignore_index=True)\n",
        "\n",
        "print(df_2019)"
      ],
      "execution_count": 32,
      "outputs": [
        {
          "output_type": "stream",
          "text": [
            "                                                      키워드  ...                                                URL\n",
            "0       사진,추억,평창,한국사진작가,30일,평창지부,회원전,내달,동계올림픽,KTX,진부역,...  ...   www.kado.net/news/articleView.html?idxno=1042132\n",
            "1       공모대박,빅히트,1주,청약,방법,공모,13만,확정,장외,원대,경쟁률,1천,1억,1주...  ...  https://news.imaeil.com/Economy/20200930121713...\n",
            "2       사람,노릇,찬송,222장,신앙고백,사도신경,본문,로마,말씀,코로나19,방안,사람,노...  ...  http://news.kmib.co.kr/article/view.asp?arcid=...\n",
            "3       이오타,찬송,212장,신앙고백,사도신경,본문,18~19절,마태복음,말씀,예수님,천지...  ...  http://news.kmib.co.kr/article/view.asp?arcid=...\n",
            "4       코레일,적발,추석,특별,수송,첫날,무임승차자,한국철도,코레일,첫날,추석,특별,수송,...  ...  http://www.joongdo.co.kr/web/view.php?key=2020...\n",
            "...                                                   ...  ...                                                ...\n",
            "179995  공부,스페이스,김현정,머니,출연,IQ,남편,교육관,충돌,공부,머니,가족,스페이스,메...  ...  http://star.mk.co.kr/new/view.php?mc=ST&year=2...\n",
            "179996  마트,마스크,소란,결국,직장,해고,미국,감염증,신종,코로나바이러스,코로나19,재확산...  ...  http://biz.heraldcorp.com/view.php?ud=20200709...\n",
            "179997  사랑,재개발,안용준,역대급,차도녀,등장,안용준,대국민,사과,배우,안용준,어머니,사랑...  ...  https://www.hankyung.com/entertainment/article...\n",
            "179998  신한생명,신한금융플러스,자회사,GA,설립,신한생명,자회사,법인,보험,대리점,GA,신...  ...               http://www.etnews.com/20200709000048\n",
            "179999  와이즈유,SNS,개인,브랜딩,강화,전략,세미나,항공관광학,미래사회,변화,퍼스널,브랜...  ...  http://www.busan.com/view/busan/view.php?code=...\n",
            "\n",
            "[180000 rows x 3 columns]\n"
          ],
          "name": "stdout"
        }
      ]
    },
    {
      "cell_type": "markdown",
      "metadata": {
        "id": "WUs0xFLxn8mG"
      },
      "source": [
        "-----\n",
        "\n",
        "2020년도, 2019년도 7월부터 9월까지 각각 TF-IDF 분석을 실시하여 코로나 발생 이전과 이후 뉴스 데이터에서 중요 단어 변화 분석\n",
        "\n",
        "-----"
      ]
    },
    {
      "cell_type": "code",
      "metadata": {
        "id": "0F7T6fT2XrIK",
        "outputId": "ccf55739-b674-4a13-94df-57e1bebbc0be",
        "colab": {
          "base_uri": "https://localhost:8080/",
          "height": 358
        }
      },
      "source": [
        "from sklearn.feature_extraction.text import CountVectorizer\n",
        "\n",
        "keyword_2020 = df_2020.loc[:,['키워드']].values.tolist()\n",
        "\n",
        "corpus = keyword_2020\n",
        "\n",
        "vector = CountVectorizer()\n",
        "print(vector.fit_transform(corpus).toarray())\n",
        "print(vector.vocabulary_) "
      ],
      "execution_count": 71,
      "outputs": [
        {
          "output_type": "error",
          "ename": "AttributeError",
          "evalue": "ignored",
          "traceback": [
            "\u001b[0;31m---------------------------------------------------------------------------\u001b[0m",
            "\u001b[0;31mAttributeError\u001b[0m                            Traceback (most recent call last)",
            "\u001b[0;32m<ipython-input-71-c68c30f59510>\u001b[0m in \u001b[0;36m<module>\u001b[0;34m()\u001b[0m\n\u001b[1;32m      6\u001b[0m \u001b[0;34m\u001b[0m\u001b[0m\n\u001b[1;32m      7\u001b[0m \u001b[0mvector\u001b[0m \u001b[0;34m=\u001b[0m \u001b[0mCountVectorizer\u001b[0m\u001b[0;34m(\u001b[0m\u001b[0;34m)\u001b[0m\u001b[0;34m\u001b[0m\u001b[0;34m\u001b[0m\u001b[0m\n\u001b[0;32m----> 8\u001b[0;31m \u001b[0mprint\u001b[0m\u001b[0;34m(\u001b[0m\u001b[0mvector\u001b[0m\u001b[0;34m.\u001b[0m\u001b[0mfit_transform\u001b[0m\u001b[0;34m(\u001b[0m\u001b[0mcorpus\u001b[0m\u001b[0;34m)\u001b[0m\u001b[0;34m.\u001b[0m\u001b[0mtoarray\u001b[0m\u001b[0;34m(\u001b[0m\u001b[0;34m)\u001b[0m\u001b[0;34m)\u001b[0m\u001b[0;34m\u001b[0m\u001b[0;34m\u001b[0m\u001b[0m\n\u001b[0m\u001b[1;32m      9\u001b[0m \u001b[0mprint\u001b[0m\u001b[0;34m(\u001b[0m\u001b[0mvector\u001b[0m\u001b[0;34m.\u001b[0m\u001b[0mvocabulary_\u001b[0m\u001b[0;34m)\u001b[0m\u001b[0;34m\u001b[0m\u001b[0;34m\u001b[0m\u001b[0m\n",
            "\u001b[0;32m/usr/local/lib/python3.6/dist-packages/sklearn/feature_extraction/text.py\u001b[0m in \u001b[0;36mfit_transform\u001b[0;34m(self, raw_documents, y)\u001b[0m\n\u001b[1;32m   1218\u001b[0m \u001b[0;34m\u001b[0m\u001b[0m\n\u001b[1;32m   1219\u001b[0m         vocabulary, X = self._count_vocab(raw_documents,\n\u001b[0;32m-> 1220\u001b[0;31m                                           self.fixed_vocabulary_)\n\u001b[0m\u001b[1;32m   1221\u001b[0m \u001b[0;34m\u001b[0m\u001b[0m\n\u001b[1;32m   1222\u001b[0m         \u001b[0;32mif\u001b[0m \u001b[0mself\u001b[0m\u001b[0;34m.\u001b[0m\u001b[0mbinary\u001b[0m\u001b[0;34m:\u001b[0m\u001b[0;34m\u001b[0m\u001b[0;34m\u001b[0m\u001b[0m\n",
            "\u001b[0;32m/usr/local/lib/python3.6/dist-packages/sklearn/feature_extraction/text.py\u001b[0m in \u001b[0;36m_count_vocab\u001b[0;34m(self, raw_documents, fixed_vocab)\u001b[0m\n\u001b[1;32m   1129\u001b[0m         \u001b[0;32mfor\u001b[0m \u001b[0mdoc\u001b[0m \u001b[0;32min\u001b[0m \u001b[0mraw_documents\u001b[0m\u001b[0;34m:\u001b[0m\u001b[0;34m\u001b[0m\u001b[0;34m\u001b[0m\u001b[0m\n\u001b[1;32m   1130\u001b[0m             \u001b[0mfeature_counter\u001b[0m \u001b[0;34m=\u001b[0m \u001b[0;34m{\u001b[0m\u001b[0;34m}\u001b[0m\u001b[0;34m\u001b[0m\u001b[0;34m\u001b[0m\u001b[0m\n\u001b[0;32m-> 1131\u001b[0;31m             \u001b[0;32mfor\u001b[0m \u001b[0mfeature\u001b[0m \u001b[0;32min\u001b[0m \u001b[0manalyze\u001b[0m\u001b[0;34m(\u001b[0m\u001b[0mdoc\u001b[0m\u001b[0;34m)\u001b[0m\u001b[0;34m:\u001b[0m\u001b[0;34m\u001b[0m\u001b[0;34m\u001b[0m\u001b[0m\n\u001b[0m\u001b[1;32m   1132\u001b[0m                 \u001b[0;32mtry\u001b[0m\u001b[0;34m:\u001b[0m\u001b[0;34m\u001b[0m\u001b[0;34m\u001b[0m\u001b[0m\n\u001b[1;32m   1133\u001b[0m                     \u001b[0mfeature_idx\u001b[0m \u001b[0;34m=\u001b[0m \u001b[0mvocabulary\u001b[0m\u001b[0;34m[\u001b[0m\u001b[0mfeature\u001b[0m\u001b[0;34m]\u001b[0m\u001b[0;34m\u001b[0m\u001b[0;34m\u001b[0m\u001b[0m\n",
            "\u001b[0;32m/usr/local/lib/python3.6/dist-packages/sklearn/feature_extraction/text.py\u001b[0m in \u001b[0;36m_analyze\u001b[0;34m(doc, analyzer, tokenizer, ngrams, preprocessor, decoder, stop_words)\u001b[0m\n\u001b[1;32m    101\u001b[0m     \u001b[0;32melse\u001b[0m\u001b[0;34m:\u001b[0m\u001b[0;34m\u001b[0m\u001b[0;34m\u001b[0m\u001b[0m\n\u001b[1;32m    102\u001b[0m         \u001b[0;32mif\u001b[0m \u001b[0mpreprocessor\u001b[0m \u001b[0;32mis\u001b[0m \u001b[0;32mnot\u001b[0m \u001b[0;32mNone\u001b[0m\u001b[0;34m:\u001b[0m\u001b[0;34m\u001b[0m\u001b[0;34m\u001b[0m\u001b[0m\n\u001b[0;32m--> 103\u001b[0;31m             \u001b[0mdoc\u001b[0m \u001b[0;34m=\u001b[0m \u001b[0mpreprocessor\u001b[0m\u001b[0;34m(\u001b[0m\u001b[0mdoc\u001b[0m\u001b[0;34m)\u001b[0m\u001b[0;34m\u001b[0m\u001b[0;34m\u001b[0m\u001b[0m\n\u001b[0m\u001b[1;32m    104\u001b[0m         \u001b[0;32mif\u001b[0m \u001b[0mtokenizer\u001b[0m \u001b[0;32mis\u001b[0m \u001b[0;32mnot\u001b[0m \u001b[0;32mNone\u001b[0m\u001b[0;34m:\u001b[0m\u001b[0;34m\u001b[0m\u001b[0;34m\u001b[0m\u001b[0m\n\u001b[1;32m    105\u001b[0m             \u001b[0mdoc\u001b[0m \u001b[0;34m=\u001b[0m \u001b[0mtokenizer\u001b[0m\u001b[0;34m(\u001b[0m\u001b[0mdoc\u001b[0m\u001b[0;34m)\u001b[0m\u001b[0;34m\u001b[0m\u001b[0;34m\u001b[0m\u001b[0m\n",
            "\u001b[0;32m/usr/local/lib/python3.6/dist-packages/sklearn/feature_extraction/text.py\u001b[0m in \u001b[0;36m_preprocess\u001b[0;34m(doc, accent_function, lower)\u001b[0m\n\u001b[1;32m     66\u001b[0m     \"\"\"\n\u001b[1;32m     67\u001b[0m     \u001b[0;32mif\u001b[0m \u001b[0mlower\u001b[0m\u001b[0;34m:\u001b[0m\u001b[0;34m\u001b[0m\u001b[0;34m\u001b[0m\u001b[0m\n\u001b[0;32m---> 68\u001b[0;31m         \u001b[0mdoc\u001b[0m \u001b[0;34m=\u001b[0m \u001b[0mdoc\u001b[0m\u001b[0;34m.\u001b[0m\u001b[0mlower\u001b[0m\u001b[0;34m(\u001b[0m\u001b[0;34m)\u001b[0m\u001b[0;34m\u001b[0m\u001b[0;34m\u001b[0m\u001b[0m\n\u001b[0m\u001b[1;32m     69\u001b[0m     \u001b[0;32mif\u001b[0m \u001b[0maccent_function\u001b[0m \u001b[0;32mis\u001b[0m \u001b[0;32mnot\u001b[0m \u001b[0;32mNone\u001b[0m\u001b[0;34m:\u001b[0m\u001b[0;34m\u001b[0m\u001b[0;34m\u001b[0m\u001b[0m\n\u001b[1;32m     70\u001b[0m         \u001b[0mdoc\u001b[0m \u001b[0;34m=\u001b[0m \u001b[0maccent_function\u001b[0m\u001b[0;34m(\u001b[0m\u001b[0mdoc\u001b[0m\u001b[0;34m)\u001b[0m\u001b[0;34m\u001b[0m\u001b[0;34m\u001b[0m\u001b[0m\n",
            "\u001b[0;31mAttributeError\u001b[0m: 'list' object has no attribute 'lower'"
          ]
        }
      ]
    },
    {
      "cell_type": "markdown",
      "metadata": {
        "id": "9bx6zCTiq2be"
      },
      "source": [
        "-> DTM"
      ]
    },
    {
      "cell_type": "code",
      "metadata": {
        "id": "wZY2qehmelpJ",
        "outputId": "2ba91f7a-5200-4f32-aefe-60d15b418a79",
        "colab": {
          "base_uri": "https://localhost:8080/"
        }
      },
      "source": [
        "keyword_2020 = df_2020.loc[:,['키워드']].values.tolist()\n",
        "\n",
        "corpus = keyword_2020\n",
        "print(corpus)\n",
        "tfidfv = TfidfVectorizer().fit(corpus)\n",
        "print(tfidfv.transform(corpus).toarray())\n",
        "print(tfidfv.vocabulary_)"
      ],
      "execution_count": 36,
      "outputs": [
        {
          "output_type": "stream",
          "text": [
            "                                                      키워드\n",
            "0       사진,추억,평창,한국사진작가,30일,평창지부,회원전,내달,동계올림픽,KTX,진부역,...\n",
            "1       공모대박,빅히트,1주,청약,방법,공모,13만,확정,장외,원대,경쟁률,1천,1억,1주...\n",
            "2       사람,노릇,찬송,222장,신앙고백,사도신경,본문,로마,말씀,코로나19,방안,사람,노...\n",
            "3       이오타,찬송,212장,신앙고백,사도신경,본문,18~19절,마태복음,말씀,예수님,천지...\n",
            "4       코레일,적발,추석,특별,수송,첫날,무임승차자,한국철도,코레일,첫날,추석,특별,수송,...\n",
            "...                                                   ...\n",
            "179995  공부,스페이스,김현정,머니,출연,IQ,남편,교육관,충돌,공부,머니,가족,스페이스,메...\n",
            "179996  마트,마스크,소란,결국,직장,해고,미국,감염증,신종,코로나바이러스,코로나19,재확산...\n",
            "179997  사랑,재개발,안용준,역대급,차도녀,등장,안용준,대국민,사과,배우,안용준,어머니,사랑...\n",
            "179998  신한생명,신한금융플러스,자회사,GA,설립,신한생명,자회사,법인,보험,대리점,GA,신...\n",
            "179999  와이즈유,SNS,개인,브랜딩,강화,전략,세미나,항공관광학,미래사회,변화,퍼스널,브랜...\n",
            "\n",
            "[180000 rows x 1 columns]\n"
          ],
          "name": "stdout"
        }
      ]
    },
    {
      "cell_type": "markdown",
      "metadata": {
        "id": "KOG5PFgwq5uu"
      },
      "source": [
        "->TF-IDF 분석모델"
      ]
    },
    {
      "cell_type": "code",
      "metadata": {
        "id": "UT7kxVlfpK2A"
      },
      "source": [
        "from sklearn.feature_extraction.text import CountVectorizer\n",
        "\n",
        "keyword_2019 = df_2019.loc[:,['키워드']].values.tolist()\n",
        "\n",
        "corpus = keyword_2019\n",
        "\n",
        "vector = CountVectorizer()\n",
        "print(vector.fit_transform(corpus).toarray())\n",
        "print(vector.vocabulary_) \n"
      ],
      "execution_count": null,
      "outputs": []
    },
    {
      "cell_type": "code",
      "metadata": {
        "id": "X8N8Aa4qpLkw"
      },
      "source": [
        "keyword_2019 = df_2020.loc[:,['키워드']].values.tolist()\n",
        "\n",
        "corpus = keyword_2019\n",
        "print(corpus)\n",
        "tfidfv = TfidfVectorizer().fit(corpus)\n",
        "print(tfidfv.transform(corpus).toarray())\n",
        "print(tfidfv.vocabulary_)"
      ],
      "execution_count": null,
      "outputs": []
    },
    {
      "cell_type": "markdown",
      "metadata": {
        "id": "4NxwUmlhpl2m"
      },
      "source": [
        "----\n",
        "\n",
        "!! keyword_날짜 변수명으로 데이터프레임으로부터 리스트로 변형하여 받아왔으나\n",
        "\n",
        "자료형식에 문제가 있어 모델이 실행안됨. (아래와 비교) -> keyword_날짜 변수 자료형 수정필요\n",
        "\n",
        "____"
      ]
    },
    {
      "cell_type": "code",
      "metadata": {
        "id": "MqE_ej5QqpBv",
        "outputId": "bbabc2d4-3b0a-4724-f3b3-2a8bfce0b7dd",
        "colab": {
          "base_uri": "https://localhost:8080/"
        }
      },
      "source": [
        "from sklearn.feature_extraction.text import CountVectorizer\n",
        "corpus = [\n",
        "    '사진,추억,평창,한국사진작가,30일,평창지부,회원전,내달,동계올림픽,KTX,진부역',\n",
        "    '공모대박,빅히트,1주,청약,방법,공모,13만,확정,장외,원대,경쟁률,1천,1억,1주', \n",
        "    '사람,노릇,찬송,222장,신앙고백,사도신경,본문,로마,말씀,코로나19,방안,사람',\n",
        "    '이오타,찬송,212장,신앙고백,사도신경,본문,18~19절,마태복음,말씀,예수님,천지',\n",
        "    '코레일,적발,추석,특별,수송,첫날,무임승차자,한국철도,코레일,첫날,추석,특별,수송',\n",
        "    '공부,스페이스,김현정,머니,출연,IQ,남편,교육관,충돌,공부,머니,가족,스페이스',\n",
        "]\n",
        "vector = CountVectorizer()\n",
        "print(vector.fit_transform(corpus).toarray())\n",
        "print(vector.vocabulary_)"
      ],
      "execution_count": 69,
      "outputs": [
        {
          "output_type": "stream",
          "text": [
            "[[0 0 0 0 0 0 0 0 1 0 1 0 0 0 0 0 0 0 0 1 0 1 0 0 0 0 0 0 0 0 0 0 0 1 0 0\n",
            "  0 0 0 0 0 0 1 0 0 0 0 0 1 0 0 0 0 0 1 1 1 0 0 1]\n",
            " [1 0 0 1 2 1 0 0 0 0 0 0 1 1 1 0 0 0 0 0 0 0 0 0 0 0 0 1 0 0 1 0 0 0 0 0\n",
            "  0 0 1 0 1 0 0 0 0 0 1 0 0 0 0 0 0 0 0 0 0 0 1 0]\n",
            " [0 0 0 0 0 0 0 1 0 0 0 0 0 0 0 0 0 0 0 0 1 0 1 0 1 0 0 0 1 1 0 1 2 0 0 0\n",
            "  1 0 0 0 0 0 0 1 0 0 0 0 0 0 0 0 1 0 0 0 0 0 0 0]\n",
            " [0 1 1 0 0 0 1 0 0 0 0 0 0 0 0 0 0 0 0 0 0 0 0 1 1 0 0 0 0 1 0 1 0 0 0 0\n",
            "  1 1 0 1 0 0 0 1 1 0 0 0 0 0 0 0 0 0 0 0 0 0 0 0]\n",
            " [0 0 0 0 0 0 0 0 0 0 0 0 0 0 0 0 0 0 0 0 0 0 0 0 0 0 1 0 0 0 0 0 0 0 2 0\n",
            "  0 0 0 0 0 1 0 0 0 2 0 2 0 0 0 2 0 2 0 0 0 1 0 0]\n",
            " [0 0 0 0 0 0 0 0 0 1 0 1 0 0 0 2 1 1 1 0 0 0 0 0 0 2 0 0 0 0 0 0 0 0 0 2\n",
            "  0 0 0 0 0 0 0 0 0 0 0 0 0 1 1 0 0 0 0 0 0 0 0 0]]\n",
            "{'사진': 33, '추억': 48, '평창': 54, '한국사진작가': 56, '30일': 8, '평창지부': 55, '회원전': 59, '내달': 19, '동계올림픽': 21, 'ktx': 10, '진부역': 42, '공모대박': 14, '빅히트': 30, '1주': 4, '청약': 46, '방법': 27, '공모': 13, '13만': 0, '확정': 58, '장외': 40, '원대': 38, '경쟁률': 12, '1천': 5, '1억': 3, '사람': 32, '노릇': 20, '찬송': 43, '222장': 7, '신앙고백': 36, '사도신경': 31, '본문': 29, '로마': 22, '말씀': 24, '코로나19': 52, '방안': 28, '이오타': 39, '212장': 6, '18': 1, '19절': 2, '마태복음': 23, '예수님': 37, '천지': 44, '코레일': 51, '적발': 41, '추석': 47, '특별': 53, '수송': 34, '첫날': 45, '무임승차자': 26, '한국철도': 57, '공부': 15, '스페이스': 35, '김현정': 17, '머니': 25, '출연': 49, 'iq': 9, '남편': 18, '교육관': 16, '충돌': 50, '가족': 11}\n"
          ],
          "name": "stdout"
        }
      ]
    },
    {
      "cell_type": "code",
      "metadata": {
        "id": "zmvmscr0ennB",
        "outputId": "3c3cabcd-1a42-455a-c554-73a831c51b62",
        "colab": {
          "base_uri": "https://localhost:8080/"
        }
      },
      "source": [
        "\n",
        "corpus = [\n",
        "    '사진,추억,평창,한국사진작가,30일,평창지부,회원전,내달,동계올림픽,KTX,진부역',\n",
        "    '공모대박,빅히트,1주,청약,방법,공모,13만,확정,장외,원대,경쟁률,1천,1억,1주', \n",
        "    '사람,노릇,찬송,222장,신앙고백,사도신경,본문,로마,말씀,코로나19,방안,사람',\n",
        "    '이오타,찬송,212장,신앙고백,사도신경,본문,18~19절,마태복음,말씀,예수님,천지',\n",
        "    '코레일,적발,추석,특별,수송,첫날,무임승차자,한국철도,코레일,첫날,추석,특별,수송',\n",
        "    '공부,스페이스,김현정,머니,출연,IQ,남편,교육관,충돌,공부,머니,가족,스페이스',\n",
        "]\n",
        "print(corpus)\n",
        "tfidfv = TfidfVectorizer().fit(corpus)\n",
        "print(tfidfv.transform(corpus).toarray())\n",
        "print(tfidfv.vocabulary_)"
      ],
      "execution_count": 70,
      "outputs": [
        {
          "output_type": "stream",
          "text": [
            "['사진,추억,평창,한국사진작가,30일,평창지부,회원전,내달,동계올림픽,KTX,진부역', '공모대박,빅히트,1주,청약,방법,공모,13만,확정,장외,원대,경쟁률,1천,1억,1주', '사람,노릇,찬송,222장,신앙고백,사도신경,본문,로마,말씀,코로나19,방안,사람', '이오타,찬송,212장,신앙고백,사도신경,본문,18~19절,마태복음,말씀,예수님,천지', '코레일,적발,추석,특별,수송,첫날,무임승차자,한국철도,코레일,첫날,추석,특별,수송', '공부,스페이스,김현정,머니,출연,IQ,남편,교육관,충돌,공부,머니,가족,스페이스']\n",
            "[[0.         0.         0.         0.         0.         0.\n",
            "  0.         0.         0.30151134 0.         0.30151134 0.\n",
            "  0.         0.         0.         0.         0.         0.\n",
            "  0.         0.30151134 0.         0.30151134 0.         0.\n",
            "  0.         0.         0.         0.         0.         0.\n",
            "  0.         0.         0.         0.30151134 0.         0.\n",
            "  0.         0.         0.         0.         0.         0.\n",
            "  0.30151134 0.         0.         0.         0.         0.\n",
            "  0.30151134 0.         0.         0.         0.         0.\n",
            "  0.30151134 0.30151134 0.30151134 0.         0.         0.30151134]\n",
            " [0.25       0.         0.         0.25       0.5        0.25\n",
            "  0.         0.         0.         0.         0.         0.\n",
            "  0.25       0.25       0.25       0.         0.         0.\n",
            "  0.         0.         0.         0.         0.         0.\n",
            "  0.         0.         0.         0.25       0.         0.\n",
            "  0.25       0.         0.         0.         0.         0.\n",
            "  0.         0.         0.25       0.         0.25       0.\n",
            "  0.         0.         0.         0.         0.25       0.\n",
            "  0.         0.         0.         0.         0.         0.\n",
            "  0.         0.         0.         0.         0.25       0.        ]\n",
            " [0.         0.         0.         0.         0.         0.\n",
            "  0.         0.2844157  0.         0.         0.         0.\n",
            "  0.         0.         0.         0.         0.         0.\n",
            "  0.         0.         0.2844157  0.         0.2844157  0.\n",
            "  0.23322494 0.         0.         0.         0.2844157  0.23322494\n",
            "  0.         0.23322494 0.5688314  0.         0.         0.\n",
            "  0.23322494 0.         0.         0.         0.         0.\n",
            "  0.         0.23322494 0.         0.         0.         0.\n",
            "  0.         0.         0.         0.         0.2844157  0.\n",
            "  0.         0.         0.         0.         0.         0.        ]\n",
            " [0.         0.31065314 0.31065314 0.         0.         0.\n",
            "  0.31065314 0.         0.         0.         0.         0.\n",
            "  0.         0.         0.         0.         0.         0.\n",
            "  0.         0.         0.         0.         0.         0.31065314\n",
            "  0.25474002 0.         0.         0.         0.         0.25474002\n",
            "  0.         0.25474002 0.         0.         0.         0.\n",
            "  0.25474002 0.31065314 0.         0.31065314 0.         0.\n",
            "  0.         0.25474002 0.31065314 0.         0.         0.\n",
            "  0.         0.         0.         0.         0.         0.\n",
            "  0.         0.         0.         0.         0.         0.        ]\n",
            " [0.         0.         0.         0.         0.         0.\n",
            "  0.         0.         0.         0.         0.         0.\n",
            "  0.         0.         0.         0.         0.         0.\n",
            "  0.         0.         0.         0.         0.         0.\n",
            "  0.         0.         0.20851441 0.         0.         0.\n",
            "  0.         0.         0.         0.         0.41702883 0.\n",
            "  0.         0.         0.         0.         0.         0.20851441\n",
            "  0.         0.         0.         0.41702883 0.         0.41702883\n",
            "  0.         0.         0.         0.41702883 0.         0.41702883\n",
            "  0.         0.         0.         0.20851441 0.         0.        ]\n",
            " [0.         0.         0.         0.         0.         0.\n",
            "  0.         0.         0.         0.22941573 0.         0.22941573\n",
            "  0.         0.         0.         0.45883147 0.22941573 0.22941573\n",
            "  0.22941573 0.         0.         0.         0.         0.\n",
            "  0.         0.45883147 0.         0.         0.         0.\n",
            "  0.         0.         0.         0.         0.         0.45883147\n",
            "  0.         0.         0.         0.         0.         0.\n",
            "  0.         0.         0.         0.         0.         0.\n",
            "  0.         0.22941573 0.22941573 0.         0.         0.\n",
            "  0.         0.         0.         0.         0.         0.        ]]\n",
            "{'사진': 33, '추억': 48, '평창': 54, '한국사진작가': 56, '30일': 8, '평창지부': 55, '회원전': 59, '내달': 19, '동계올림픽': 21, 'ktx': 10, '진부역': 42, '공모대박': 14, '빅히트': 30, '1주': 4, '청약': 46, '방법': 27, '공모': 13, '13만': 0, '확정': 58, '장외': 40, '원대': 38, '경쟁률': 12, '1천': 5, '1억': 3, '사람': 32, '노릇': 20, '찬송': 43, '222장': 7, '신앙고백': 36, '사도신경': 31, '본문': 29, '로마': 22, '말씀': 24, '코로나19': 52, '방안': 28, '이오타': 39, '212장': 6, '18': 1, '19절': 2, '마태복음': 23, '예수님': 37, '천지': 44, '코레일': 51, '적발': 41, '추석': 47, '특별': 53, '수송': 34, '첫날': 45, '무임승차자': 26, '한국철도': 57, '공부': 15, '스페이스': 35, '김현정': 17, '머니': 25, '출연': 49, 'iq': 9, '남편': 18, '교육관': 16, '충돌': 50, '가족': 11}\n"
          ],
          "name": "stdout"
        }
      ]
    },
    {
      "cell_type": "markdown",
      "metadata": {
        "id": "ZwFNVSuEoiTd"
      },
      "source": [
        ""
      ]
    },
    {
      "cell_type": "code",
      "metadata": {
        "id": "XpKVN2K-hjhZ"
      },
      "source": [
        ""
      ],
      "execution_count": null,
      "outputs": []
    }
  ]
}